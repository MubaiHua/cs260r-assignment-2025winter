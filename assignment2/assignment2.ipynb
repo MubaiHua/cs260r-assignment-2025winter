{
 "cells": [
  {
   "cell_type": "markdown",
   "id": "455f8adf",
   "metadata": {
    "id": "455f8adf"
   },
   "source": [
    "# Assignment 2: Deep Q Learning and Policy Gradient\n",
    "\n",
    "*CS260R: Reinforcement Learning. Department of Computer Science at University of California, Los Angeles.\n",
    "Course Instructor: Professor Bolei ZHOU. Assignment author: Zhenghao PENG.*\n",
    "\n"
   ]
  },
  {
   "cell_type": "markdown",
   "id": "5ecc5685",
   "metadata": {
    "id": "5ecc5685"
   },
   "source": [
    "| Student Name | Student ID |\n",
    "| :----: | :----: |\n",
    "| TYPE_YOUR_NAME_HERE | TYPE_YOUR_STUDENT_ID_HERE |\n",
    "\n",
    "------"
   ]
  },
  {
   "cell_type": "markdown",
   "id": "b55e080e",
   "metadata": {
    "id": "b55e080e"
   },
   "source": [
    "Welcome to the assignment 2 of our RL course. This assignment consisits of three parts:\n",
    "\n",
    "* Section 2: Implement Q learning in tabular setting (20 points)\n",
    "* Section 3: Implement Deep Q Network with pytorch (30 points)\n",
    "* Section 4: Implement policy gradient method REINFORCE with pytorch (30 points)\n",
    "* Section 5: Implement policy gradient method with baseline (20 points)\n",
    "\n",
    "Section 0 and Section 1 set up the dependencies and prepare some useful functions.\n",
    "\n",
    "The experiments we'll conduct and their expected goals:\n",
    "\n",
    "1. Naive Q learning in FrozenLake &emsp; (should solve)\n",
    "2. DQN in CartPole &emsp; (should solve)\n",
    "3. DQN in MetaDrive-Easy &emsp; (should solve)\n",
    "4. Policy Gradient w/o baseline in CartPole (w/ and w/o advantage normalization) &emsp; (should solve)\n",
    "5. Policy Gradient w/o baseline in MetaDrive-Easy &emsp; (should solve)\n",
    "6. Policy Gradient w/ baseline in CartPole (w/ advantage normalization) &emsp; (should solve)\n",
    "7. Policy Gradient w/ baseline in MetaDrive-Easy &emsp; (should solve)\n",
    "8. Policy Gradient w/ baseline in MetaDrive-Hard &emsp; (>20 return)"
   ]
  },
  {
   "cell_type": "markdown",
   "id": "3feea3d2",
   "metadata": {
    "id": "3feea3d2"
   },
   "source": [
    "## Section 0: Dependencies\n",
    "\n",
    "Please install the following dependencies.\n",
    "\n",
    "\n",
    "### Notes on MetaDrive\n",
    "\n",
    "MetaDrive is a lightweight driving simulator which we will use for DQN and Policy Gradient methods. We suggest using Colab or Linux for running MetaDrive.\n",
    "\n",
    "Please ignore this warning from MetaDrive: `WARNING:root:BaseEngine is not launched, fail to sync seed to engine!`\n",
    "\n",
    "### Notes on Colab\n",
    "\n",
    "We have several cells used for installing dependencies for Colab only. Please make sure they are run properly.\n",
    "\n",
    "You don't need to install python packages again and again after **restarting the runtime**, since the Colab instance still remembers the python envionment after you installing packages for the first time. But you do need to rerun those packages installation script after you **reconnecting to the runtime** (which means Google assigns a new machine to you and thus the python environment is new)."
   ]
  },
  {
   "cell_type": "code",
   "execution_count": 1,
   "id": "9b170cda",
   "metadata": {},
   "outputs": [],
   "source": [
    "RUNNING_IN_COLAB = 'google.colab' in str(get_ipython())  # Detect if it is running in Colab"
   ]
  },
  {
   "cell_type": "code",
   "execution_count": 2,
   "id": "9098b4a3-1f4e-4ffd-b6cb-dbec4ede65f4",
   "metadata": {
    "scrolled": true
   },
   "outputs": [
    {
     "name": "stdout",
     "output_type": "stream",
     "text": [
      "Requirement already satisfied: pip in c:\\users\\hmbyx\\appdata\\local\\programs\\python\\python311\\lib\\site-packages (22.3)\n",
      "Collecting pip\n",
      "  Using cached pip-25.0.1-py3-none-any.whl (1.8 MB)\n"
     ]
    },
    {
     "name": "stderr",
     "output_type": "stream",
     "text": [
      "ERROR: To modify pip, please run the following command:\n",
      "C:\\Users\\hmbyx\\AppData\\Local\\Programs\\Python\\Python311\\python.exe -m pip install -U pip\n",
      "\n",
      "[notice] A new release of pip available: 22.3 -> 25.0\n",
      "[notice] To update, run: python.exe -m pip install --upgrade pip\n"
     ]
    },
    {
     "name": "stdout",
     "output_type": "stream",
     "text": [
      "Requirement already satisfied: numpy in c:\\users\\hmbyx\\appdata\\local\\programs\\python\\python311\\lib\\site-packages (2.2.2)\n",
      "Requirement already satisfied: scipy in c:\\users\\hmbyx\\appdata\\local\\programs\\python\\python311\\lib\\site-packages (1.15.1)\n",
      "Requirement already satisfied: gymnasium<0.29 in c:\\users\\hmbyx\\appdata\\local\\programs\\python\\python311\\lib\\site-packages (0.28.1)\n",
      "Requirement already satisfied: jax-jumpy>=1.0.0 in c:\\users\\hmbyx\\appdata\\local\\programs\\python\\python311\\lib\\site-packages (from gymnasium<0.29) (1.0.0)\n",
      "Requirement already satisfied: cloudpickle>=1.2.0 in c:\\users\\hmbyx\\appdata\\local\\programs\\python\\python311\\lib\\site-packages (from gymnasium<0.29) (3.1.1)\n",
      "Requirement already satisfied: typing-extensions>=4.3.0 in c:\\users\\hmbyx\\appdata\\local\\programs\\python\\python311\\lib\\site-packages (from gymnasium<0.29) (4.12.2)\n",
      "Requirement already satisfied: farama-notifications>=0.0.1 in c:\\users\\hmbyx\\appdata\\local\\programs\\python\\python311\\lib\\site-packages (from gymnasium<0.29) (0.0.4)\n"
     ]
    },
    {
     "name": "stderr",
     "output_type": "stream",
     "text": [
      "\n",
      "[notice] A new release of pip available: 22.3 -> 25.0\n",
      "[notice] To update, run: python.exe -m pip install --upgrade pip\n"
     ]
    },
    {
     "name": "stdout",
     "output_type": "stream",
     "text": [
      "Requirement already satisfied: torch in c:\\users\\hmbyx\\appdata\\local\\programs\\python\\python311\\lib\\site-packages (2.6.0+xpu)\n",
      "Requirement already satisfied: torchvision in c:\\users\\hmbyx\\appdata\\local\\programs\\python\\python311\\lib\\site-packages (0.21.0)\n",
      "Requirement already satisfied: filelock in c:\\users\\hmbyx\\appdata\\local\\programs\\python\\python311\\lib\\site-packages (from torch) (3.17.0)\n",
      "Requirement already satisfied: typing-extensions>=4.10.0 in c:\\users\\hmbyx\\appdata\\local\\programs\\python\\python311\\lib\\site-packages (from torch) (4.12.2)\n",
      "Requirement already satisfied: networkx in c:\\users\\hmbyx\\appdata\\local\\programs\\python\\python311\\lib\\site-packages (from torch) (3.4.2)\n",
      "Requirement already satisfied: jinja2 in c:\\users\\hmbyx\\appdata\\local\\programs\\python\\python311\\lib\\site-packages (from torch) (3.1.5)\n",
      "Requirement already satisfied: fsspec in c:\\users\\hmbyx\\appdata\\local\\programs\\python\\python311\\lib\\site-packages (from torch) (2025.2.0)\n",
      "Requirement already satisfied: intel-cmplr-lib-rt==2025.0.2 in c:\\users\\hmbyx\\appdata\\local\\programs\\python\\python311\\lib\\site-packages (from torch) (2025.0.2)\n",
      "Requirement already satisfied: intel-cmplr-lib-ur==2025.0.2 in c:\\users\\hmbyx\\appdata\\local\\programs\\python\\python311\\lib\\site-packages (from torch) (2025.0.2)\n",
      "Requirement already satisfied: intel-cmplr-lic-rt==2025.0.2 in c:\\users\\hmbyx\\appdata\\local\\programs\\python\\python311\\lib\\site-packages (from torch) (2025.0.2)\n",
      "Requirement already satisfied: intel-sycl-rt==2025.0.2 in c:\\users\\hmbyx\\appdata\\local\\programs\\python\\python311\\lib\\site-packages (from torch) (2025.0.2)\n",
      "Requirement already satisfied: tcmlib==1.2.0 in c:\\users\\hmbyx\\appdata\\local\\programs\\python\\python311\\lib\\site-packages (from torch) (1.2.0)\n",
      "Requirement already satisfied: umf==0.9.1 in c:\\users\\hmbyx\\appdata\\local\\programs\\python\\python311\\lib\\site-packages (from torch) (0.9.1)\n",
      "Requirement already satisfied: sympy==1.13.1 in c:\\users\\hmbyx\\appdata\\local\\programs\\python\\python311\\lib\\site-packages (from torch) (1.13.1)\n",
      "Requirement already satisfied: mpmath<1.4,>=1.1.0 in c:\\users\\hmbyx\\appdata\\local\\programs\\python\\python311\\lib\\site-packages (from sympy==1.13.1->torch) (1.3.0)\n",
      "Requirement already satisfied: numpy in c:\\users\\hmbyx\\appdata\\local\\programs\\python\\python311\\lib\\site-packages (from torchvision) (2.2.2)\n",
      "Requirement already satisfied: pillow!=8.3.*,>=5.3.0 in c:\\users\\hmbyx\\appdata\\local\\programs\\python\\python311\\lib\\site-packages (from torchvision) (11.1.0)\n",
      "Requirement already satisfied: MarkupSafe>=2.0 in c:\\users\\hmbyx\\appdata\\local\\programs\\python\\python311\\lib\\site-packages (from jinja2->torch) (3.0.2)\n"
     ]
    },
    {
     "name": "stderr",
     "output_type": "stream",
     "text": [
      "\n",
      "[notice] A new release of pip available: 22.3 -> 25.0\n",
      "[notice] To update, run: python.exe -m pip install --upgrade pip\n"
     ]
    },
    {
     "name": "stdout",
     "output_type": "stream",
     "text": [
      "Requirement already satisfied: mediapy in c:\\users\\hmbyx\\appdata\\local\\programs\\python\\python311\\lib\\site-packages (1.2.2)\n",
      "Requirement already satisfied: ipython in c:\\users\\hmbyx\\appdata\\local\\programs\\python\\python311\\lib\\site-packages (from mediapy) (8.32.0)\n",
      "Requirement already satisfied: matplotlib in c:\\users\\hmbyx\\appdata\\local\\programs\\python\\python311\\lib\\site-packages (from mediapy) (3.10.0)\n",
      "Requirement already satisfied: numpy in c:\\users\\hmbyx\\appdata\\local\\programs\\python\\python311\\lib\\site-packages (from mediapy) (2.2.2)\n",
      "Requirement already satisfied: Pillow in c:\\users\\hmbyx\\appdata\\local\\programs\\python\\python311\\lib\\site-packages (from mediapy) (11.1.0)\n",
      "Requirement already satisfied: colorama in c:\\users\\hmbyx\\appdata\\local\\programs\\python\\python311\\lib\\site-packages (from ipython->mediapy) (0.4.6)\n",
      "Requirement already satisfied: decorator in c:\\users\\hmbyx\\appdata\\local\\programs\\python\\python311\\lib\\site-packages (from ipython->mediapy) (5.1.1)\n",
      "Requirement already satisfied: jedi>=0.16 in c:\\users\\hmbyx\\appdata\\local\\programs\\python\\python311\\lib\\site-packages (from ipython->mediapy) (0.19.2)\n",
      "Requirement already satisfied: matplotlib-inline in c:\\users\\hmbyx\\appdata\\local\\programs\\python\\python311\\lib\\site-packages (from ipython->mediapy) (0.1.7)\n",
      "Requirement already satisfied: prompt_toolkit<3.1.0,>=3.0.41 in c:\\users\\hmbyx\\appdata\\local\\programs\\python\\python311\\lib\\site-packages (from ipython->mediapy) (3.0.50)\n",
      "Requirement already satisfied: pygments>=2.4.0 in c:\\users\\hmbyx\\appdata\\local\\programs\\python\\python311\\lib\\site-packages (from ipython->mediapy) (2.19.1)\n",
      "Requirement already satisfied: stack_data in c:\\users\\hmbyx\\appdata\\local\\programs\\python\\python311\\lib\\site-packages (from ipython->mediapy) (0.6.3)\n",
      "Requirement already satisfied: traitlets>=5.13.0 in c:\\users\\hmbyx\\appdata\\local\\programs\\python\\python311\\lib\\site-packages (from ipython->mediapy) (5.14.3)\n",
      "Requirement already satisfied: typing_extensions>=4.6 in c:\\users\\hmbyx\\appdata\\local\\programs\\python\\python311\\lib\\site-packages (from ipython->mediapy) (4.12.2)\n",
      "Requirement already satisfied: contourpy>=1.0.1 in c:\\users\\hmbyx\\appdata\\local\\programs\\python\\python311\\lib\\site-packages (from matplotlib->mediapy) (1.3.1)\n",
      "Requirement already satisfied: cycler>=0.10 in c:\\users\\hmbyx\\appdata\\local\\programs\\python\\python311\\lib\\site-packages (from matplotlib->mediapy) (0.12.1)\n",
      "Requirement already satisfied: fonttools>=4.22.0 in c:\\users\\hmbyx\\appdata\\local\\programs\\python\\python311\\lib\\site-packages (from matplotlib->mediapy) (4.56.0)\n",
      "Requirement already satisfied: kiwisolver>=1.3.1 in c:\\users\\hmbyx\\appdata\\local\\programs\\python\\python311\\lib\\site-packages (from matplotlib->mediapy) (1.4.8)\n",
      "Requirement already satisfied: packaging>=20.0 in c:\\users\\hmbyx\\appdata\\local\\programs\\python\\python311\\lib\\site-packages (from matplotlib->mediapy) (24.2)\n",
      "Requirement already satisfied: pyparsing>=2.3.1 in c:\\users\\hmbyx\\appdata\\local\\programs\\python\\python311\\lib\\site-packages (from matplotlib->mediapy) (3.2.1)\n",
      "Requirement already satisfied: python-dateutil>=2.7 in c:\\users\\hmbyx\\appdata\\local\\programs\\python\\python311\\lib\\site-packages (from matplotlib->mediapy) (2.9.0.post0)\n",
      "Requirement already satisfied: parso<0.9.0,>=0.8.4 in c:\\users\\hmbyx\\appdata\\local\\programs\\python\\python311\\lib\\site-packages (from jedi>=0.16->ipython->mediapy) (0.8.4)\n",
      "Requirement already satisfied: wcwidth in c:\\users\\hmbyx\\appdata\\local\\programs\\python\\python311\\lib\\site-packages (from prompt_toolkit<3.1.0,>=3.0.41->ipython->mediapy) (0.2.13)\n",
      "Requirement already satisfied: six>=1.5 in c:\\users\\hmbyx\\appdata\\local\\programs\\python\\python311\\lib\\site-packages (from python-dateutil>=2.7->matplotlib->mediapy) (1.17.0)\n",
      "Requirement already satisfied: executing>=1.2.0 in c:\\users\\hmbyx\\appdata\\local\\programs\\python\\python311\\lib\\site-packages (from stack_data->ipython->mediapy) (2.2.0)\n",
      "Requirement already satisfied: asttokens>=2.1.0 in c:\\users\\hmbyx\\appdata\\local\\programs\\python\\python311\\lib\\site-packages (from stack_data->ipython->mediapy) (3.0.0)\n",
      "Requirement already satisfied: pure-eval in c:\\users\\hmbyx\\appdata\\local\\programs\\python\\python311\\lib\\site-packages (from stack_data->ipython->mediapy) (0.2.3)\n"
     ]
    },
    {
     "name": "stderr",
     "output_type": "stream",
     "text": [
      "\n",
      "[notice] A new release of pip available: 22.3 -> 25.0\n",
      "[notice] To update, run: python.exe -m pip install --upgrade pip\n"
     ]
    },
    {
     "name": "stdout",
     "output_type": "stream",
     "text": [
      "Requirement already satisfied: tqdm in c:\\users\\hmbyx\\appdata\\local\\programs\\python\\python311\\lib\\site-packages (4.67.1)\n",
      "Requirement already satisfied: colorama in c:\\users\\hmbyx\\appdata\\local\\programs\\python\\python311\\lib\\site-packages (from tqdm) (0.4.6)\n"
     ]
    },
    {
     "name": "stderr",
     "output_type": "stream",
     "text": [
      "\n",
      "[notice] A new release of pip available: 22.3 -> 25.0\n",
      "[notice] To update, run: python.exe -m pip install --upgrade pip\n"
     ]
    }
   ],
   "source": [
    "# Similar to AS1\n",
    "\n",
    "!pip install -U pip\n",
    "!pip install numpy scipy \"gymnasium<0.29\"\n",
    "!pip install torch torchvision\n",
    "!pip install mediapy\n",
    "!pip install tqdm"
   ]
  },
  {
   "cell_type": "code",
   "execution_count": 3,
   "id": "5b05b5d4",
   "metadata": {
    "colab": {
     "base_uri": "https://localhost:8080/"
    },
    "id": "5b05b5d4",
    "outputId": "07c15710-629c-419b-e3b0-1330420bfea8",
    "scrolled": true
   },
   "outputs": [
    {
     "name": "stdout",
     "output_type": "stream",
     "text": [
      "Collecting git+https://github.com/metadriverse/metadrive\n",
      "  Cloning https://github.com/metadriverse/metadrive to c:\\users\\hmbyx\\appdata\\local\\temp\\pip-req-build-964w_pmt\n",
      "  Resolved https://github.com/metadriverse/metadrive to commit bb0a0c64f776769340b7daff81c154c04c8aa3a7\n",
      "  Preparing metadata (setup.py): started\n",
      "  Preparing metadata (setup.py): finished with status 'done'\n",
      "Requirement already satisfied: requests in c:\\users\\hmbyx\\appdata\\local\\programs\\python\\python311\\lib\\site-packages (from metadrive-simulator==0.4.3) (2.32.3)\n",
      "Requirement already satisfied: gymnasium>=0.28 in c:\\users\\hmbyx\\appdata\\local\\programs\\python\\python311\\lib\\site-packages (from metadrive-simulator==0.4.3) (0.28.1)\n",
      "Requirement already satisfied: numpy>=1.21.6 in c:\\users\\hmbyx\\appdata\\local\\programs\\python\\python311\\lib\\site-packages (from metadrive-simulator==0.4.3) (2.2.2)\n",
      "Requirement already satisfied: matplotlib in c:\\users\\hmbyx\\appdata\\local\\programs\\python\\python311\\lib\\site-packages (from metadrive-simulator==0.4.3) (3.10.0)\n",
      "Requirement already satisfied: pygame in c:\\users\\hmbyx\\appdata\\local\\programs\\python\\python311\\lib\\site-packages (from metadrive-simulator==0.4.3) (2.6.1)\n",
      "Requirement already satisfied: yapf in c:\\users\\hmbyx\\appdata\\local\\programs\\python\\python311\\lib\\site-packages (from metadrive-simulator==0.4.3) (0.43.0)\n",
      "Requirement already satisfied: tqdm in c:\\users\\hmbyx\\appdata\\local\\programs\\python\\python311\\lib\\site-packages (from metadrive-simulator==0.4.3) (4.67.1)\n",
      "Requirement already satisfied: progressbar in c:\\users\\hmbyx\\appdata\\local\\programs\\python\\python311\\lib\\site-packages (from metadrive-simulator==0.4.3) (2.5)\n",
      "Requirement already satisfied: panda3d==1.10.14 in c:\\users\\hmbyx\\appdata\\local\\programs\\python\\python311\\lib\\site-packages (from metadrive-simulator==0.4.3) (1.10.14)\n",
      "Requirement already satisfied: panda3d-gltf==0.13 in c:\\users\\hmbyx\\appdata\\local\\programs\\python\\python311\\lib\\site-packages (from metadrive-simulator==0.4.3) (0.13)\n",
      "Requirement already satisfied: pillow in c:\\users\\hmbyx\\appdata\\local\\programs\\python\\python311\\lib\\site-packages (from metadrive-simulator==0.4.3) (11.1.0)\n",
      "Requirement already satisfied: opencv-python in c:\\users\\hmbyx\\appdata\\local\\programs\\python\\python311\\lib\\site-packages (from metadrive-simulator==0.4.3) (4.11.0.86)\n",
      "Requirement already satisfied: lxml in c:\\users\\hmbyx\\appdata\\local\\programs\\python\\python311\\lib\\site-packages (from metadrive-simulator==0.4.3) (5.3.0)\n",
      "Requirement already satisfied: scipy in c:\\users\\hmbyx\\appdata\\local\\programs\\python\\python311\\lib\\site-packages (from metadrive-simulator==0.4.3) (1.15.1)\n",
      "Requirement already satisfied: psutil in c:\\users\\hmbyx\\appdata\\local\\programs\\python\\python311\\lib\\site-packages (from metadrive-simulator==0.4.3) (6.1.1)\n",
      "Requirement already satisfied: shapely in c:\\users\\hmbyx\\appdata\\local\\programs\\python\\python311\\lib\\site-packages (from metadrive-simulator==0.4.3) (2.0.7)\n",
      "Requirement already satisfied: filelock in c:\\users\\hmbyx\\appdata\\local\\programs\\python\\python311\\lib\\site-packages (from metadrive-simulator==0.4.3) (3.17.0)\n",
      "Requirement already satisfied: Pygments in c:\\users\\hmbyx\\appdata\\local\\programs\\python\\python311\\lib\\site-packages (from metadrive-simulator==0.4.3) (2.19.1)\n",
      "Requirement already satisfied: mediapy in c:\\users\\hmbyx\\appdata\\local\\programs\\python\\python311\\lib\\site-packages (from metadrive-simulator==0.4.3) (1.2.2)\n",
      "Requirement already satisfied: panda3d-simplepbr>=0.6 in c:\\users\\hmbyx\\appdata\\local\\programs\\python\\python311\\lib\\site-packages (from panda3d-gltf==0.13->metadrive-simulator==0.4.3) (0.12.0)\n",
      "Requirement already satisfied: jax-jumpy>=1.0.0 in c:\\users\\hmbyx\\appdata\\local\\programs\\python\\python311\\lib\\site-packages (from gymnasium>=0.28->metadrive-simulator==0.4.3) (1.0.0)\n",
      "Requirement already satisfied: cloudpickle>=1.2.0 in c:\\users\\hmbyx\\appdata\\local\\programs\\python\\python311\\lib\\site-packages (from gymnasium>=0.28->metadrive-simulator==0.4.3) (3.1.1)\n",
      "Requirement already satisfied: typing-extensions>=4.3.0 in c:\\users\\hmbyx\\appdata\\local\\programs\\python\\python311\\lib\\site-packages (from gymnasium>=0.28->metadrive-simulator==0.4.3) (4.12.2)\n",
      "Requirement already satisfied: farama-notifications>=0.0.1 in c:\\users\\hmbyx\\appdata\\local\\programs\\python\\python311\\lib\\site-packages (from gymnasium>=0.28->metadrive-simulator==0.4.3) (0.0.4)\n",
      "Requirement already satisfied: contourpy>=1.0.1 in c:\\users\\hmbyx\\appdata\\local\\programs\\python\\python311\\lib\\site-packages (from matplotlib->metadrive-simulator==0.4.3) (1.3.1)\n",
      "Requirement already satisfied: cycler>=0.10 in c:\\users\\hmbyx\\appdata\\local\\programs\\python\\python311\\lib\\site-packages (from matplotlib->metadrive-simulator==0.4.3) (0.12.1)\n",
      "Requirement already satisfied: fonttools>=4.22.0 in c:\\users\\hmbyx\\appdata\\local\\programs\\python\\python311\\lib\\site-packages (from matplotlib->metadrive-simulator==0.4.3) (4.56.0)\n",
      "Requirement already satisfied: kiwisolver>=1.3.1 in c:\\users\\hmbyx\\appdata\\local\\programs\\python\\python311\\lib\\site-packages (from matplotlib->metadrive-simulator==0.4.3) (1.4.8)\n",
      "Requirement already satisfied: packaging>=20.0 in c:\\users\\hmbyx\\appdata\\local\\programs\\python\\python311\\lib\\site-packages (from matplotlib->metadrive-simulator==0.4.3) (24.2)\n",
      "Requirement already satisfied: pyparsing>=2.3.1 in c:\\users\\hmbyx\\appdata\\local\\programs\\python\\python311\\lib\\site-packages (from matplotlib->metadrive-simulator==0.4.3) (3.2.1)\n",
      "Requirement already satisfied: python-dateutil>=2.7 in c:\\users\\hmbyx\\appdata\\local\\programs\\python\\python311\\lib\\site-packages (from matplotlib->metadrive-simulator==0.4.3) (2.9.0.post0)\n",
      "Requirement already satisfied: ipython in c:\\users\\hmbyx\\appdata\\local\\programs\\python\\python311\\lib\\site-packages (from mediapy->metadrive-simulator==0.4.3) (8.32.0)\n",
      "Requirement already satisfied: charset-normalizer<4,>=2 in c:\\users\\hmbyx\\appdata\\local\\programs\\python\\python311\\lib\\site-packages (from requests->metadrive-simulator==0.4.3) (3.4.1)\n",
      "Requirement already satisfied: idna<4,>=2.5 in c:\\users\\hmbyx\\appdata\\local\\programs\\python\\python311\\lib\\site-packages (from requests->metadrive-simulator==0.4.3) (3.10)\n",
      "Requirement already satisfied: urllib3<3,>=1.21.1 in c:\\users\\hmbyx\\appdata\\local\\programs\\python\\python311\\lib\\site-packages (from requests->metadrive-simulator==0.4.3) (2.3.0)\n",
      "Requirement already satisfied: certifi>=2017.4.17 in c:\\users\\hmbyx\\appdata\\local\\programs\\python\\python311\\lib\\site-packages (from requests->metadrive-simulator==0.4.3) (2025.1.31)\n",
      "Requirement already satisfied: colorama in c:\\users\\hmbyx\\appdata\\local\\programs\\python\\python311\\lib\\site-packages (from tqdm->metadrive-simulator==0.4.3) (0.4.6)\n",
      "Requirement already satisfied: platformdirs>=3.5.1 in c:\\users\\hmbyx\\appdata\\local\\programs\\python\\python311\\lib\\site-packages (from yapf->metadrive-simulator==0.4.3) (4.3.6)\n",
      "Requirement already satisfied: six>=1.5 in c:\\users\\hmbyx\\appdata\\local\\programs\\python\\python311\\lib\\site-packages (from python-dateutil>=2.7->matplotlib->metadrive-simulator==0.4.3) (1.17.0)\n",
      "Requirement already satisfied: decorator in c:\\users\\hmbyx\\appdata\\local\\programs\\python\\python311\\lib\\site-packages (from ipython->mediapy->metadrive-simulator==0.4.3) (5.1.1)\n",
      "Requirement already satisfied: jedi>=0.16 in c:\\users\\hmbyx\\appdata\\local\\programs\\python\\python311\\lib\\site-packages (from ipython->mediapy->metadrive-simulator==0.4.3) (0.19.2)\n",
      "Requirement already satisfied: matplotlib-inline in c:\\users\\hmbyx\\appdata\\local\\programs\\python\\python311\\lib\\site-packages (from ipython->mediapy->metadrive-simulator==0.4.3) (0.1.7)\n",
      "Requirement already satisfied: prompt_toolkit<3.1.0,>=3.0.41 in c:\\users\\hmbyx\\appdata\\local\\programs\\python\\python311\\lib\\site-packages (from ipython->mediapy->metadrive-simulator==0.4.3) (3.0.50)\n",
      "Requirement already satisfied: stack_data in c:\\users\\hmbyx\\appdata\\local\\programs\\python\\python311\\lib\\site-packages (from ipython->mediapy->metadrive-simulator==0.4.3) (0.6.3)\n",
      "Requirement already satisfied: traitlets>=5.13.0 in c:\\users\\hmbyx\\appdata\\local\\programs\\python\\python311\\lib\\site-packages (from ipython->mediapy->metadrive-simulator==0.4.3) (5.14.3)\n",
      "Requirement already satisfied: parso<0.9.0,>=0.8.4 in c:\\users\\hmbyx\\appdata\\local\\programs\\python\\python311\\lib\\site-packages (from jedi>=0.16->ipython->mediapy->metadrive-simulator==0.4.3) (0.8.4)\n",
      "Requirement already satisfied: wcwidth in c:\\users\\hmbyx\\appdata\\local\\programs\\python\\python311\\lib\\site-packages (from prompt_toolkit<3.1.0,>=3.0.41->ipython->mediapy->metadrive-simulator==0.4.3) (0.2.13)\n",
      "Requirement already satisfied: executing>=1.2.0 in c:\\users\\hmbyx\\appdata\\local\\programs\\python\\python311\\lib\\site-packages (from stack_data->ipython->mediapy->metadrive-simulator==0.4.3) (2.2.0)\n",
      "Requirement already satisfied: asttokens>=2.1.0 in c:\\users\\hmbyx\\appdata\\local\\programs\\python\\python311\\lib\\site-packages (from stack_data->ipython->mediapy->metadrive-simulator==0.4.3) (3.0.0)\n",
      "Requirement already satisfied: pure-eval in c:\\users\\hmbyx\\appdata\\local\\programs\\python\\python311\\lib\\site-packages (from stack_data->ipython->mediapy->metadrive-simulator==0.4.3) (0.2.3)\n"
     ]
    },
    {
     "name": "stderr",
     "output_type": "stream",
     "text": [
      "  Running command git clone --filter=blob:none --quiet https://github.com/metadriverse/metadrive 'C:\\Users\\hmbyx\\AppData\\Local\\Temp\\pip-req-build-964w_pmt'\n",
      "\n",
      "[notice] A new release of pip available: 22.3 -> 25.0\n",
      "[notice] To update, run: python.exe -m pip install --upgrade pip\n"
     ]
    }
   ],
   "source": [
    "# Install MetaDrive, a lightweight driving simulator\n",
    "\n",
    "import sys\n",
    "\n",
    "!pip install \"git+https://github.com/metadriverse/metadrive\""
   ]
  },
  {
   "cell_type": "code",
   "execution_count": 4,
   "id": "IlCJY9seS7RB",
   "metadata": {
    "colab": {
     "base_uri": "https://localhost:8080/"
    },
    "id": "IlCJY9seS7RB",
    "outputId": "3504c227-56ea-4db5-8abe-cea176aefcc2",
    "scrolled": true
   },
   "outputs": [
    {
     "name": "stdout",
     "output_type": "stream",
     "text": [
      "Start to profile the efficiency of MetaDrive with 1000 maps and ~4 vehicles!\n",
      "Finish 100/100 simulation steps. Time elapse: 0.1316. Average FPS: 759.8349, Average number of vehicles: 6.0000\n",
      "Total Time Elapse: 0.132, average FPS: 759.835, average number of vehicles: 6.000.\n"
     ]
    },
    {
     "name": "stderr",
     "output_type": "stream",
     "text": [
      "\u001b[38;20m[INFO] Environment: MetaDriveEnv\u001b[0m\n",
      "\u001b[38;20m[INFO] MetaDrive version: 0.4.3\u001b[0m\n",
      "\u001b[38;20m[INFO] Sensors: [lidar: Lidar(), side_detector: SideDetector(), lane_line_detector: LaneLineDetector()]\u001b[0m\n",
      "\u001b[38;20m[INFO] Render Mode: none\u001b[0m\n",
      "\u001b[38;20m[INFO] Horizon (Max steps per agent): None\u001b[0m\n",
      "\u001b[38;20m[INFO] Assets version: 0.4.3\u001b[0m\n",
      "\u001b[38;20m[INFO] Known Pipes: wglGraphicsPipe\u001b[0m\n",
      "\u001b[38;20m[INFO] Start Scenario Index: 1010, Num Scenarios : 1000\u001b[0m\n"
     ]
    }
   ],
   "source": [
    "# Test whether MetaDrive is properly installed. The test is passed if no error is shown.\n",
    "!python -m metadrive.examples.profile_metadrive --num-steps 100"
   ]
  },
  {
   "cell_type": "markdown",
   "id": "9612bfe5",
   "metadata": {
    "id": "9612bfe5"
   },
   "source": [
    "## Section 1: Building abstract class and helper functions"
   ]
  },
  {
   "cell_type": "code",
   "execution_count": 5,
   "id": "9064ac72",
   "metadata": {
    "colab": {
     "base_uri": "https://localhost:8080/"
    },
    "id": "9064ac72",
    "outputId": "4eed79d8-0126-4a00-ff90-869135e2d144"
   },
   "outputs": [],
   "source": [
    "# Run this cell without modification\n",
    "\n",
    "# Import some packages that we need to use\n",
    "import mediapy as media\n",
    "import gymnasium as gym\n",
    "import numpy as np\n",
    "import pandas as pd\n",
    "import seaborn as sns\n",
    "from gymnasium.error import Error\n",
    "from gymnasium import logger\n",
    "import torch\n",
    "import torch.nn as nn\n",
    "from IPython.display import clear_output\n",
    "import copy\n",
    "import time\n",
    "import pygame\n",
    "import logging\n",
    "import tqdm\n",
    "\n",
    "logging.basicConfig(format='[%(levelname)s] %(message)s')\n",
    "logger = logging.getLogger()\n",
    "logger.setLevel(logging.INFO)\n",
    "\n",
    "\n",
    "def wait(sleep=0.2):\n",
    "    clear_output(wait=True)\n",
    "    time.sleep(sleep)\n",
    "\n",
    "\n",
    "def merge_config(new_config, old_config):\n",
    "    \"\"\"Merge the user-defined config with default config\"\"\"\n",
    "    config = copy.deepcopy(old_config)\n",
    "    if new_config is not None:\n",
    "        config.update(new_config)\n",
    "    return config\n",
    "\n",
    "\n",
    "def test_random_policy(policy, env):\n",
    "    _acts = set()\n",
    "    for i in range(1000):\n",
    "        act = policy(0)\n",
    "        _acts.add(act)\n",
    "        assert env.action_space.contains(act), \"Out of the bound!\"\n",
    "    if len(_acts) != 1:\n",
    "        print(\n",
    "            \"[HINT] Though we call self.policy a 'random policy', \" \\\n",
    "            \"we find that generating action randomly during initialization \" \\\n",
    "            \"and then sticking with it when update values lead to better \" \\\n",
    "            \"performance. Using purely random policy is not even work! \"\n",
    "        )\n",
    "\n",
    "\n",
    "# We register a non-slippery version of FrozenLake environment.\n",
    "try:\n",
    "    gym.register(\n",
    "        id='FrozenLakeNotSlippery-v1',\n",
    "        entry_point='gymnasium.envs.toy_text:FrozenLakeEnv',\n",
    "        kwargs={'map_name': '4x4', 'is_slippery': False},\n",
    "        max_episode_steps=200,\n",
    "        reward_threshold=0.78,  # optimum = .8196\n",
    "    )\n",
    "except Error:\n",
    "    print(\"The environment is registered already.\")\n",
    "\n",
    "\n",
    "def _render_helper(env, sleep=0.1):\n",
    "    ret = env.render()\n",
    "    if sleep:\n",
    "        wait(sleep=sleep)\n",
    "    return ret\n",
    "\n",
    "\n",
    "def animate(img_array, fps=None):\n",
    "    \"\"\"A function that can generate video and show in Notebook.\"\"\"\n",
    "    media.show_video(img_array, fps=fps)\n",
    "\n",
    "\n",
    "def evaluate(policy, num_episodes=1, seed=0, env_name='FrozenLake8x8-v1',\n",
    "             render=None, existing_env=None, max_episode_length=1000,\n",
    "             sleep=0.0, verbose=False):\n",
    "    \"\"\"This function evaluates the given policy and return the mean episodic \n",
    "    reward.\n",
    "    :param policy: a function whose input is the observation\n",
    "    :param num_episodes: number of episodes you wish to run\n",
    "    :param seed: the random seed\n",
    "    :param env_name: the name of the environment\n",
    "    :param render: a boolean flag indicating whether to render policy\n",
    "    :return: the averaged episode reward of the given policy.\n",
    "    \"\"\"\n",
    "    if existing_env is None:\n",
    "        render_mode = render if render else None\n",
    "        env = gym.make(env_name, render_mode=render)\n",
    "    else:\n",
    "        env = existing_env\n",
    "    try:\n",
    "        rewards = []\n",
    "        frames = []\n",
    "        succ_rate = []\n",
    "        if render:\n",
    "            num_episodes = 1\n",
    "        for i in range(num_episodes):\n",
    "            obs, info = env.reset(seed=seed + i)\n",
    "            act = policy(obs)\n",
    "            ep_reward = 0\n",
    "            for step_count in range(max_episode_length):\n",
    "                obs, reward, terminated, truncated, info = env.step(act)\n",
    "                done = terminated or truncated\n",
    "\n",
    "                act = policy(obs)\n",
    "                ep_reward += reward\n",
    "\n",
    "                if verbose and step_count % 50 == 0:\n",
    "                    print(\"Evaluating {}/{} episodes. We are in {}/{} steps. Current episode reward: {:.3f}\".format(\n",
    "                        i + 1, num_episodes, step_count + 1, max_episode_length, ep_reward\n",
    "                    ))\n",
    "\n",
    "                if render == \"ansi\":\n",
    "                    print(_render_helper(env, sleep))\n",
    "                elif render:\n",
    "                    frames.append(_render_helper(env, sleep))\n",
    "                if done:\n",
    "                    break\n",
    "            rewards.append(ep_reward)\n",
    "            if \"arrive_dest\" in info:\n",
    "                succ_rate.append(float(info[\"arrive_dest\"]))\n",
    "        if render:\n",
    "            env.close()\n",
    "    except Exception as e:\n",
    "        env.close()\n",
    "        raise e\n",
    "    finally:\n",
    "        env.close()\n",
    "    eval_dict = {\"frames\": frames}\n",
    "    if succ_rate:\n",
    "        eval_dict[\"success_rate\"] = sum(succ_rate) / len(succ_rate)\n",
    "    return np.mean(rewards), eval_dict\n"
   ]
  },
  {
   "cell_type": "code",
   "execution_count": 6,
   "id": "d21c8c84",
   "metadata": {
    "id": "d21c8c84"
   },
   "outputs": [],
   "source": [
    "# Run this cell without modification\n",
    "\n",
    "DEFAULT_CONFIG = dict(\n",
    "    seed=0,\n",
    "    max_iteration=20000,\n",
    "    max_episode_length=200,\n",
    "    evaluate_interval=10,\n",
    "    evaluate_num_episodes=10,\n",
    "    learning_rate=0.001,\n",
    "    gamma=0.8,\n",
    "    eps=0.3,\n",
    "    env_name='FrozenLakeNotSlippery-v1'\n",
    ")\n",
    "\n",
    "\n",
    "class AbstractTrainer:\n",
    "    \"\"\"This is the abstract class for value-based RL trainer. We will inherent\n",
    "    the new trainer from this class, so that we can reuse the code.\n",
    "    \"\"\"\n",
    "\n",
    "    def __init__(self, config):\n",
    "        self.config = merge_config(config, DEFAULT_CONFIG)\n",
    "\n",
    "        # Create the environment\n",
    "        self.env_name = self.config['env_name']\n",
    "        self.env = gym.make(self.env_name)\n",
    "\n",
    "        # Apply the random seed\n",
    "        self.seed = self.config[\"seed\"]\n",
    "        np.random.seed(self.seed)\n",
    "        self.env.reset(seed=self.seed)\n",
    "\n",
    "        # We set self.obs_dim to the number of possible observations\n",
    "        # if observation space is discrete, otherwise the number\n",
    "        # of observation's dimensions. The same applies to self.act_dim.\n",
    "        if isinstance(self.env.observation_space, gym.spaces.box.Box):\n",
    "            assert len(self.env.observation_space.shape) == 1\n",
    "            self.obs_dim = self.env.observation_space.shape[0]\n",
    "            self.discrete_obs = False\n",
    "        elif isinstance(self.env.observation_space,\n",
    "                        gym.spaces.discrete.Discrete):\n",
    "            self.obs_dim = self.env.observation_space.n\n",
    "            self.discrete_obs = True\n",
    "        else:\n",
    "            raise ValueError(\"Wrong observation space!\")\n",
    "\n",
    "        if isinstance(self.env.action_space, gym.spaces.box.Box):\n",
    "            assert len(self.env.action_space.shape) == 1\n",
    "            self.act_dim = self.env.action_space.shape[0]\n",
    "        elif isinstance(self.env.action_space, gym.spaces.discrete.Discrete):\n",
    "            self.act_dim = self.env.action_space.n\n",
    "        else:\n",
    "            raise ValueError(\"Wrong action space! {}\".format(self.env.action_space))\n",
    "\n",
    "        self.eps = self.config['eps']\n",
    "\n",
    "    def process_state(self, state):\n",
    "        \"\"\"\n",
    "        Process the raw observation. For example, we can use this function to\n",
    "        convert the input state represented by an integer to a one-hot vector.\n",
    "        \"\"\"\n",
    "        return state\n",
    "\n",
    "    def compute_action(self, processed_state, eps=None):\n",
    "        \"\"\"Compute the action given the processed state.\"\"\"\n",
    "        raise NotImplementedError(\n",
    "            \"You need to override the Trainer.compute_action() function.\")\n",
    "\n",
    "    def evaluate(self, num_episodes=50, *args, **kwargs):\n",
    "        \"\"\"Use the function you write to evaluate current policy.\n",
    "        Return the mean episode reward of 50 episodes.\"\"\"\n",
    "        if \"MetaDrive\" in self.env_name:\n",
    "            kwargs[\"existing_env\"] = self.env\n",
    "        result, eval_infos = evaluate(self.policy, num_episodes, seed=self.seed,\n",
    "                                      env_name=self.env_name, *args, **kwargs)\n",
    "        return result, eval_infos\n",
    "\n",
    "    def policy(self, raw_state, eps=0.0):\n",
    "        \"\"\"A wrapper function takes raw_state as input and output action.\"\"\"\n",
    "        return self.compute_action(self.process_state(raw_state), eps=eps)\n",
    "\n",
    "    def train(self, iteration=None):\n",
    "        \"\"\"Conduct one iteration of learning.\"\"\"\n",
    "        raise NotImplementedError(\"You need to override the \"\n",
    "                                  \"Trainer.train() function.\")\n"
   ]
  },
  {
   "cell_type": "code",
   "execution_count": 7,
   "id": "4067c392-1693-44ab-9024-5142d4fa7610",
   "metadata": {},
   "outputs": [],
   "source": [
    "import tqdm"
   ]
  },
  {
   "cell_type": "code",
   "execution_count": 8,
   "id": "cf324d71",
   "metadata": {
    "id": "cf324d71"
   },
   "outputs": [],
   "source": [
    "# Run this cell without modification\n",
    "\n",
    "def run(trainer_cls, config=None, reward_threshold=None):\n",
    "    \"\"\"Run the trainer and report learning progress.\n",
    "    :param trainer_cls: A trainer class \n",
    "    :param config: A dict\n",
    "    :param reward_threshold: the reward threshold to break the training\n",
    "    :return: The trained trainer and a dataframe containing learning progress\n",
    "    \"\"\"\n",
    "    if config is None:\n",
    "        config = {}\n",
    "    trainer = trainer_cls(config)\n",
    "    config = trainer.config\n",
    "    start = now = time.time()\n",
    "    stats = []\n",
    "    total_steps = 0\n",
    "    reward = 0.0\n",
    "\n",
    "    try:\n",
    "        pbar = tqdm.trange(config['max_iteration'] + 1, desc=\"Training\")\n",
    "        for i in pbar:\n",
    "            stat = trainer.train(iteration=i)\n",
    "            stat = stat or {}\n",
    "            stats.append(stat)\n",
    "            if \"episode_len\" in stat:\n",
    "                total_steps += stat[\"episode_len\"]\n",
    "            if i % config['evaluate_interval'] == 0 or \\\n",
    "                    i == config[\"max_iteration\"]:\n",
    "                reward, _ = trainer.evaluate(\n",
    "                    config.get(\"evaluate_num_episodes\", 50),\n",
    "                    max_episode_length=config.get(\"max_episode_length\", 1000)\n",
    "                )\n",
    "                now = time.time()\n",
    "                pbar.set_postfix({'ep_reward': reward})\n",
    "            if reward_threshold is not None and reward > reward_threshold:\n",
    "                logger.info(\"Iter {}, episodic return {:.3f} is \"\n",
    "                            \"greater than reward threshold {}. Congratulation! Now we \"\n",
    "                            \"exit the training process.\".format(i, reward, reward_threshold))\n",
    "                break\n",
    "    except Exception as e:\n",
    "        print(\"Error happens during training: \")\n",
    "        raise e\n",
    "    finally:\n",
    "        if hasattr(trainer.env, \"close\"):\n",
    "            trainer.env.close()\n",
    "            print(\"Environment is closed.\")\n",
    "\n",
    "    return trainer, stats\n"
   ]
  },
  {
   "cell_type": "markdown",
   "id": "64a565ab",
   "metadata": {
    "id": "64a565ab"
   },
   "source": [
    "## Section 2: Q-Learning\n",
    "(20/100 points)\n",
    "\n",
    "Q-learning is an off-policy algorithm who differs from SARSA in the TD error. \n",
    "\n",
    "Unlike getting the TD error by running policy to get `next_act` $a'$ and compute:\n",
    "\n",
    "$r + \\gamma Q(s', a') - Q(s, a)$\n",
    "\n",
    "as in SARSA, in Q-learning we compute the TD error via:\n",
    "\n",
    "$r + \\gamma \\max_{a'} Q(s', a') - Q(s, a)$. \n",
    "\n",
    "The reason we call it \"off-policy\" is that the next-Q value is not computed against the \"behavior policy\", instead, it is the next Q value of a \"hypothetical policy\" that always takes the best action given current Q values."
   ]
  },
  {
   "cell_type": "markdown",
   "id": "188997dd",
   "metadata": {},
   "source": [
    "### Section 2.1: Building Q Learning Trainer"
   ]
  },
  {
   "cell_type": "code",
   "execution_count": 9,
   "id": "6a2ec18b",
   "metadata": {
    "id": "6a2ec18b"
   },
   "outputs": [],
   "source": [
    "import random\n",
    "# Solve the TODOs and remove `pass`\n",
    "\n",
    "# Managing configurations of your experiments is important for your research.\n",
    "Q_LEARNING_TRAINER_CONFIG = merge_config(dict(\n",
    "    eps=0.3,\n",
    "), DEFAULT_CONFIG)\n",
    "\n",
    "\n",
    "class QLearningTrainer(AbstractTrainer):\n",
    "    def __init__(self, config=None):\n",
    "        config = merge_config(config, Q_LEARNING_TRAINER_CONFIG)\n",
    "        super(QLearningTrainer, self).__init__(config=config)\n",
    "        self.gamma = self.config[\"gamma\"]\n",
    "        self.eps = self.config[\"eps\"]\n",
    "        self.max_episode_length = self.config[\"max_episode_length\"]\n",
    "        self.learning_rate = self.config[\"learning_rate\"]\n",
    "\n",
    "        # build the Q table\n",
    "        self.table = np.zeros((self.obs_dim, self.act_dim))\n",
    "\n",
    "    def compute_action(self, obs, eps=None):\n",
    "        \"\"\"Implement epsilon-greedy policy\n",
    "\n",
    "        It is a function that take an integer (state / observation)\n",
    "        as input and return an interger (action).\n",
    "        \"\"\"\n",
    "        if eps is None:\n",
    "            eps = self.eps\n",
    "\n",
    "        # TODO: You need to implement the epsilon-greedy policy here.\n",
    "        # That is, with probability eps, you will choose a (uniformly) random action\n",
    "        # in the action space. With probability 1-eps, you will choose the argmax\n",
    "        # action that maximizes the Q values.\n",
    "        # The Q values is stored in self.table.\n",
    "        random_number = random.random()\n",
    "        if random_number < eps:\n",
    "            action = random.randint(0, self.act_dim-1)\n",
    "        else:\n",
    "            q_list = self.table[obs, :]\n",
    "            action = np.argmax(q_list)\n",
    "\n",
    "        return action\n",
    "\n",
    "    def train(self, iteration=None):\n",
    "        \"\"\"Do one iteration of training.\"\"\"\n",
    "        obs, info = self.env.reset()\n",
    "        for t in range(self.max_episode_length):\n",
    "            act = self.compute_action(obs)\n",
    "\n",
    "            next_obs, reward, terminated, truncated, info = self.env.step(act)\n",
    "            done = terminated or truncated\n",
    "\n",
    "            # TODO: compute the TD error.\n",
    "            # [Hint] You will use reward `reward`, current observation `obs`, \n",
    "            # next observation `next_obs`, current action `act`, and Q value\n",
    "            # table `self.table`, and gamma `self.gamma`.\n",
    "            max_next_q = np.max(self.table[next_obs])\n",
    "            td_error = reward + self.gamma * max_next_q - self.table[obs][act]\n",
    "            \n",
    "\n",
    "            # TODO: compute the new (updated) Q value.\n",
    "            # [Hint] Use the computed TD error, self.learning_rate and Q value.\n",
    "            # This is actually a step of gradient descent. \n",
    "            new_value = self.table[obs][act] + self.learning_rate * td_error\n",
    "            \n",
    "\n",
    "            self.table[obs][act] = new_value\n",
    "            obs = next_obs\n",
    "            if done:\n",
    "                break\n"
   ]
  },
  {
   "cell_type": "markdown",
   "id": "b2f6c0f2",
   "metadata": {},
   "source": [
    "### Section 2.2: Use Q Learning to train agent in FrozenLake"
   ]
  },
  {
   "cell_type": "code",
   "execution_count": 10,
   "id": "61586e08",
   "metadata": {
    "colab": {
     "base_uri": "https://localhost:8080/"
    },
    "id": "61586e08",
    "outputId": "05ad92b5-a19b-4812-ee1a-a3c775799b3d",
    "scrolled": true
   },
   "outputs": [
    {
     "name": "stderr",
     "output_type": "stream",
     "text": [
      "Training:   0%|          | 0/5001 [00:00<?, ?it/s]"
     ]
    },
    {
     "name": "stderr",
     "output_type": "stream",
     "text": [
      "Training:  63%|██████▎   | 3151/5001 [00:04<00:02, 795.75it/s, ep_reward=1][INFO] Iter 3200, episodic return 1.000 is greater than reward threshold 0.99. Congratulation! Now we exit the training process.\n",
      "Training:  64%|██████▍   | 3200/5001 [00:04<00:02, 697.10it/s, ep_reward=1]"
     ]
    },
    {
     "name": "stdout",
     "output_type": "stream",
     "text": [
      "Environment is closed.\n"
     ]
    },
    {
     "name": "stderr",
     "output_type": "stream",
     "text": [
      "\n"
     ]
    }
   ],
   "source": [
    "# Run this cell without modification\n",
    "\n",
    "q_learning_trainer, _ = run(\n",
    "    trainer_cls=QLearningTrainer,\n",
    "    config=dict(\n",
    "        max_iteration=5000,\n",
    "        evaluate_interval=50,\n",
    "        evaluate_num_episodes=50,\n",
    "        env_name='FrozenLakeNotSlippery-v1'\n",
    "    ),\n",
    "    reward_threshold=0.99\n",
    ")\n"
   ]
  },
  {
   "cell_type": "code",
   "execution_count": 11,
   "id": "9fe03c52",
   "metadata": {
    "colab": {
     "base_uri": "https://localhost:8080/"
    },
    "id": "9fe03c52",
    "outputId": "57d058af-741d-422b-d84c-26f5bbc61820"
   },
   "outputs": [
    {
     "data": {
      "text/html": [
       "<table class=\"show_videos\" style=\"border-spacing:0px;\"><tr><td style=\"padding:1px;\"><video controls width=\"256\" height=\"256\" style=\"object-fit:cover;\" loop autoplay muted>\n",
       "      <source src=\"data:video/mp4;base64,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\" type=\"video/mp4\"/>\n",
       "      This browser does not support the video tag.\n",
       "      </video></td></tr></table>"
      ],
      "text/plain": [
       "<IPython.core.display.HTML object>"
      ]
     },
     "metadata": {},
     "output_type": "display_data"
    }
   ],
   "source": [
    "# Run this cell without modification\n",
    "\n",
    "# Visualize the learned behavior\n",
    "_, eval_info = evaluate(\n",
    "    policy=q_learning_trainer.policy,\n",
    "    num_episodes=1,\n",
    "    env_name=q_learning_trainer.env_name,\n",
    "    render=\"rgb_array\",  # Visualize the behavior here in the cell \n",
    "    sleep=0.2  # The time interval between two rendering frames\n",
    ")\n",
    "animate(eval_info[\"frames\"], fps=2)"
   ]
  },
  {
   "cell_type": "markdown",
   "id": "e198cc0a",
   "metadata": {
    "id": "e198cc0a"
   },
   "source": [
    "## Section 3: Implement Deep Q Learning in Pytorch\n",
    "\n",
    "(30 / 100 points)\n",
    "\n",
    "In this section, we will implement a neural network and train it with Deep Q Learning via Pytorch, a powerful deep learning framework. \n",
    "\n",
    "If you are not familiar with Pytorch, we suggest you to go through pytorch official quickstart tutorials:\n",
    "1. [quickstart](https://pytorch.org/tutorials/beginner/deep_learning_60min_blitz.html)\n",
    "2. [tutorial on RL](https://pytorch.org/tutorials/intermediate/reinforcement_q_learning.html)\n",
    "\n",
    "Different from the Q learning in Section 2, we will implement Deep Q Network (DQN) in this section. The main differences are summarized as follows:\n",
    "\n",
    "**DQN requires an experience replay buffer to store the transitions.** A replay memory (buffer) is implemented in the following `ExperienceReplayMemory` class. It contains a certain amount of transitions: `(s_t, a_t, r_t, s_t+1, done_t)`. When the memory is full, the earliest transition is discarded and the latest one is stored. The replay memory increases the sample efficiency (since each transition might be used multiple times) when solving complex task.\n",
    "\n",
    "\n",
    "**DQN has a delayed-updating target network.** DQN maintains another neural network called the target network that has identical architecture of the Q network. After a certain amount of learning steps has been taken, the target network copies the parameters of the Q network to itself. The update of the target network will be much less frequent than the update of the Q network.\n",
    "\n",
    "The target network is used to stabilize the estimation of the TD error. In DQN, the TD error is estimated as:\n",
    "\n",
    "$$(r_t + \\gamma \\max_{a_{t+1}} Q^{target}(s_{t+1}, a_{t+1}) - Q(s_t, a_t))$$\n",
    "\n",
    "The Q value of the next state is estimated by the target network, not the Q network that is being updated. This mechanism can reduce the variance of gradient because the next Q values is not influenced by the update of current Q network.\n"
   ]
  },
  {
   "cell_type": "markdown",
   "id": "aa025029",
   "metadata": {},
   "source": [
    "### Section 3.1: Build DQN trainer"
   ]
  },
  {
   "cell_type": "code",
   "execution_count": 12,
   "id": "6a87cab7",
   "metadata": {
    "id": "6a87cab7"
   },
   "outputs": [],
   "source": [
    "# Solve the TODOs and remove `pass`\n",
    "\n",
    "from collections import deque\n",
    "import random\n",
    "\n",
    "\n",
    "class ExperienceReplayMemory:\n",
    "    \"\"\"Store and sample the transitions\"\"\"\n",
    "\n",
    "    def __init__(self, capacity):\n",
    "        # deque is a useful class which acts like a list but only contain\n",
    "        # finite elements. When adding new element into the deque will make deque full with \n",
    "        # `maxlen` elements, the oldest element (the index 0 element) will be removed.\n",
    "\n",
    "        # TODO: uncomment next line. \n",
    "        self.memory = deque(maxlen=capacity)\n",
    "\n",
    "    def push(self, transition):\n",
    "        self.memory.append(transition)\n",
    "\n",
    "    def sample(self, batch_size):\n",
    "        return random.sample(self.memory, batch_size)\n",
    "\n",
    "    def __len__(self):\n",
    "        return len(self.memory)"
   ]
  },
  {
   "cell_type": "code",
   "execution_count": 13,
   "id": "1a72ec0f",
   "metadata": {
    "colab": {
     "base_uri": "https://localhost:8080/"
    },
    "id": "1a72ec0f",
    "outputId": "20a2f35b-6a96-48f1-8626-707411112d68"
   },
   "outputs": [
    {
     "name": "stdout",
     "output_type": "stream",
     "text": [
      "Name of each parameter vectors:  odict_keys(['action_value.0.weight', 'action_value.0.bias', 'action_value.2.weight', 'action_value.2.bias', 'action_value.4.weight', 'action_value.4.bias'])\n",
      "Test passed!\n"
     ]
    }
   ],
   "source": [
    "# Solve the TODOs and remove `pass`\n",
    "\n",
    "class PytorchModel(nn.Module):\n",
    "    def __init__(self, num_inputs, num_outputs, hidden_units=100):\n",
    "        super(PytorchModel, self).__init__()\n",
    "\n",
    "        # TODO: Build a nn.Sequential object as the neural network with two hidden layers and one output layer.\n",
    "        #\n",
    "        # The first hidden layer takes `num_inputs`-dim vector as input and has `hidden_units` hidden units,\n",
    "        # followed by a ReLU activation function.\n",
    "        # \n",
    "        # The second hidden layer takes `hidden_units`-dim vector as input and has `hidden_units` hidden units,\n",
    "        # followed by a ReLU activation function.\n",
    "        # \n",
    "        # The output layer takes `hidden_units`-dim vector as input and returns `num_outputs`-dim vctor as output.\n",
    "        self.action_value = nn.Sequential(\n",
    "            nn.Linear(num_inputs, hidden_units),\n",
    "            nn.ReLU(),\n",
    "            nn.Linear(hidden_units, hidden_units),\n",
    "            nn.ReLU(),\n",
    "            nn.Linear(hidden_units, num_outputs)\n",
    "        )\n",
    "\n",
    "    def forward(self, obs):\n",
    "        return self.action_value(obs)\n",
    "\n",
    "\n",
    "# Test\n",
    "test_pytorch_model = PytorchModel(num_inputs=3, num_outputs=7, hidden_units=123)\n",
    "assert isinstance(test_pytorch_model.action_value, nn.Module)\n",
    "assert len(test_pytorch_model.state_dict()) == 6\n",
    "assert test_pytorch_model.state_dict()[\"action_value.0.weight\"].shape == (123, 3)\n",
    "print(\"Name of each parameter vectors: \", test_pytorch_model.state_dict().keys())\n",
    "\n",
    "print(\"Test passed!\")"
   ]
  },
  {
   "cell_type": "code",
   "execution_count": 14,
   "id": "dddbd300",
   "metadata": {
    "id": "dddbd300"
   },
   "outputs": [],
   "source": [
    "# Solve the TODOs and remove `pass`\n",
    "\n",
    "DQN_CONFIG = merge_config(dict(\n",
    "    parameter_std=0.01,\n",
    "    learning_rate=0.001,\n",
    "    hidden_dim=100,\n",
    "    clip_norm=1.0,\n",
    "    clip_gradient=True,\n",
    "    max_iteration=1000,\n",
    "    max_episode_length=1000,\n",
    "    evaluate_interval=100,\n",
    "    gamma=0.99,\n",
    "    eps=0.3,\n",
    "    memory_size=50000,\n",
    "    learn_start=5000,\n",
    "    batch_size=32,\n",
    "    target_update_freq=500,  # in steps\n",
    "    learn_freq=1,  # in steps\n",
    "    n=1,\n",
    "    env_name=\"CartPole-v1\",\n",
    "), Q_LEARNING_TRAINER_CONFIG)\n",
    "\n",
    "\n",
    "def to_tensor(x):\n",
    "    \"\"\"A helper function to transform a numpy array to a Pytorch Tensor\"\"\"\n",
    "    if isinstance(x, np.ndarray):\n",
    "        x = torch.from_numpy(x).type(torch.float32)\n",
    "    assert isinstance(x, torch.Tensor)\n",
    "    if x.dim() == 3 or x.dim() == 1:\n",
    "        x = x.unsqueeze(0)\n",
    "    assert x.dim() == 2 or x.dim() == 4, x.shape\n",
    "    return x\n",
    "\n",
    "\n",
    "class DQNTrainer(AbstractTrainer):\n",
    "    def __init__(self, config):\n",
    "        config = merge_config(config, DQN_CONFIG)\n",
    "        self.learning_rate = config[\"learning_rate\"]\n",
    "        super().__init__(config)\n",
    "\n",
    "        self.memory = ExperienceReplayMemory(config[\"memory_size\"])\n",
    "\n",
    "        self.learn_start = config[\"learn_start\"]\n",
    "        self.batch_size = config[\"batch_size\"]\n",
    "        self.target_update_freq = config[\"target_update_freq\"]\n",
    "        self.clip_norm = config[\"clip_norm\"]\n",
    "        self.hidden_dim = config[\"hidden_dim\"]\n",
    "        self.max_episode_length = self.config[\"max_episode_length\"]\n",
    "        self.learning_rate = self.config[\"learning_rate\"]\n",
    "        self.gamma = self.config[\"gamma\"]\n",
    "        self.n = self.config[\"n\"]\n",
    "\n",
    "        self.step_since_update = 0\n",
    "        self.total_step = 0\n",
    "\n",
    "        # You need to setup the parameter for your function approximator.\n",
    "        self.initialize_parameters()\n",
    "\n",
    "    def initialize_parameters(self):\n",
    "        # TODO: Initialize the Q network and the target network using PytorchModel class.\n",
    "        self.network = PytorchModel(self.obs_dim, self.act_dim, hidden_units=self.hidden_dim)\n",
    "        print(\"Setting up self.network with obs dim: {} and action dim: {}\".format(self.obs_dim, self.act_dim))\n",
    "\n",
    "        self.network.eval()\n",
    "        self.network.share_memory()\n",
    "\n",
    "        # Initialize target network to be identical to self.network. \n",
    "        # You should put the weights of self.network into self.target_network.\n",
    "        # TODO: Uncomment next few lines\n",
    "        self.target_network = PytorchModel(self.obs_dim, self.act_dim)\n",
    "        self.target_network.load_state_dict(self.network.state_dict())\n",
    "        \n",
    "\n",
    "        self.target_network.eval()\n",
    "\n",
    "        # Build Adam optimizer and MSE Loss.\n",
    "        # TODO: Uncomment next few lines\n",
    "        self.optimizer = torch.optim.Adam(\n",
    "            self.network.parameters(), lr=self.learning_rate\n",
    "        )\n",
    "        self.loss = nn.MSELoss()\n",
    "\n",
    "    def compute_values(self, processed_state):\n",
    "        \"\"\"Compute the value for each potential action. Note that you\n",
    "        should NOT preprocess the state here.\"\"\"\n",
    "        values = self.network(processed_state).detach().numpy()\n",
    "        return values\n",
    "\n",
    "    def compute_action(self, processed_state, eps=None):\n",
    "        \"\"\"Compute the action given the state. Note that the input\n",
    "        is the processed state.\"\"\"\n",
    "        values = self.compute_values(processed_state)\n",
    "        assert values.ndim == 1, values.shape\n",
    "\n",
    "        if eps is None:\n",
    "            eps = self.eps\n",
    "\n",
    "        if np.random.uniform(0, 1) < eps:\n",
    "            action = self.env.action_space.sample()\n",
    "        else:\n",
    "            action = np.argmax(values)\n",
    "        return action\n",
    "\n",
    "    def train(self, iteration=None):\n",
    "        iteration_string = \"\" if iteration is None else f\"Iter {iteration}: \"\n",
    "        obs, info = self.env.reset()\n",
    "        processed_obs = self.process_state(obs)\n",
    "        act = self.compute_action(processed_obs)\n",
    "\n",
    "        stat = {\"loss\": [], \"success_rate\": np.nan}\n",
    "\n",
    "        for t in range(self.max_episode_length):\n",
    "            next_obs, reward, terminated, truncated, info = self.env.step(act)\n",
    "            done = terminated or truncated\n",
    "\n",
    "            next_processed_obs = self.process_state(next_obs)\n",
    "\n",
    "            # Push the transition into memory.\n",
    "            self.memory.push(\n",
    "                (processed_obs, act, reward, next_processed_obs, done)\n",
    "            )\n",
    "\n",
    "            processed_obs = next_processed_obs\n",
    "            act = self.compute_action(next_processed_obs)\n",
    "            self.step_since_update += 1\n",
    "            self.total_step += 1\n",
    "\n",
    "            if done:\n",
    "                if \"arrive_dest\" in info:\n",
    "                    stat[\"success_rate\"] = info[\"arrive_dest\"]\n",
    "                break\n",
    "\n",
    "            if t % self.config[\"learn_freq\"] != 0:\n",
    "                # It's not necessary to update policy in each environmental interaction.\n",
    "                continue\n",
    "\n",
    "            if len(self.memory) < self.learn_start:\n",
    "                continue\n",
    "            elif len(self.memory) == self.learn_start:\n",
    "                logging.info(\n",
    "                    \"{}Current memory contains {} transitions, \"\n",
    "                    \"start learning!\".format(iteration_string, self.learn_start)\n",
    "                )\n",
    "\n",
    "            batch = self.memory.sample(self.batch_size)\n",
    "\n",
    "            # Transform a batch of elements in transitions into tensors.\n",
    "            state_batch = to_tensor(\n",
    "                np.stack([transition[0] for transition in batch])\n",
    "            )\n",
    "            action_batch = to_tensor(\n",
    "                np.stack([transition[1] for transition in batch])\n",
    "            )\n",
    "            reward_batch = to_tensor(\n",
    "                np.stack([transition[2] for transition in batch])\n",
    "            )\n",
    "            next_state_batch = torch.stack(\n",
    "                [transition[3] for transition in batch]\n",
    "            )\n",
    "            done_batch = to_tensor(\n",
    "                np.stack([transition[4] for transition in batch])\n",
    "            )\n",
    "\n",
    "            with torch.no_grad():\n",
    "                # TODO: Compute the Q values for the next states by calling target network.\n",
    "                Q_t_plus_one: torch.Tensor = self.target_network(next_state_batch)\n",
    "\n",
    "                assert isinstance(Q_t_plus_one, torch.Tensor)\n",
    "\n",
    "                # TODO: Compute the target values for current state.\n",
    "                # The Q_objective will be used as the objective in the loss function.\n",
    "                # Hint: Remember to use done_batch.\n",
    "                Q_objective = (reward_batch + self.gamma * (1 - done_batch) * Q_t_plus_one.max(1)[0]).squeeze()\n",
    "\n",
    "                assert Q_objective.shape == (self.batch_size,)\n",
    "\n",
    "            self.network.train()  # Set the network to \"train\" mode.\n",
    "\n",
    "            # TODO: Collect the Q values in batch.\n",
    "            # Hint: The network will return the Q values for all actions at a given state.\n",
    "            #  So we need to \"extract\" the Q value for the action we've taken.\n",
    "            #  You need to use torch.gather to manipulate the 2nd dimension of the return\n",
    "            #  tensor from the network and extract the desired Q values.\n",
    "            # print(\"action batch before\")\n",
    "            # print(action_batch.shape)\n",
    "            action_batch = action_batch.to(torch.int64)\n",
    "            action_batch = action_batch.reshape(-1, 1)\n",
    "            # print(\"state batch\")\n",
    "            # print(state_batch.shape)\n",
    "            # print(\"action batch\")\n",
    "            # print(action_batch.shape)\n",
    "            Q_t: torch.Tensor = self.network(state_batch).gather(1, action_batch).squeeze()\n",
    "\n",
    "            assert Q_t.shape == Q_objective.shape\n",
    "\n",
    "            # Update the network\n",
    "            self.optimizer.zero_grad()\n",
    "            loss = self.loss(input=Q_t, target=Q_objective)\n",
    "            stat['loss'].append(loss.item())\n",
    "            loss.backward()\n",
    "\n",
    "            # TODO: Apply gradient clipping with pytorch utility. Uncomment next line.\n",
    "            nn.utils.clip_grad_norm_(self.network.parameters(), self.clip_norm)\n",
    "\n",
    "            self.optimizer.step()\n",
    "            self.network.eval()\n",
    "\n",
    "        if len(self.memory) >= self.learn_start and \\\n",
    "                self.step_since_update > self.target_update_freq:\n",
    "            self.step_since_update = 0\n",
    "\n",
    "            # TODO: Copy the weights of self.network to self.target_network.\n",
    "            self.target_network.load_state_dict(self.network.state_dict())\n",
    "\n",
    "            self.target_network.eval()\n",
    "\n",
    "        ret = {\"loss\": np.mean(stat[\"loss\"]), \"episode_len\": t}\n",
    "        if \"success_rate\" in stat:\n",
    "            ret[\"success_rate\"] = stat[\"success_rate\"]\n",
    "        return ret\n",
    "\n",
    "    def process_state(self, state):\n",
    "        return torch.from_numpy(state).type(torch.float32)\n",
    "\n",
    "    def save(self, loc=\"model.pt\"):\n",
    "        torch.save(self.network.state_dict(), loc)\n",
    "\n",
    "    def load(self, loc=\"model.pt\"):\n",
    "        self.network.load_state_dict(torch.load(loc))\n"
   ]
  },
  {
   "cell_type": "markdown",
   "id": "45f6fabd",
   "metadata": {},
   "source": [
    "### Section 3.2: Test DQN trainer"
   ]
  },
  {
   "cell_type": "code",
   "execution_count": 15,
   "id": "30d4a27d",
   "metadata": {
    "colab": {
     "base_uri": "https://localhost:8080/"
    },
    "id": "30d4a27d",
    "outputId": "7a3c068c-a580-498a-953e-275da6def868"
   },
   "outputs": [
    {
     "name": "stdout",
     "output_type": "stream",
     "text": [
      "Setting up self.network with obs dim: 4 and action dim: 2\n"
     ]
    },
    {
     "name": "stderr",
     "output_type": "stream",
     "text": [
      "c:\\Users\\hmbyx\\AppData\\Local\\Programs\\Python\\Python311\\Lib\\site-packages\\numpy\\_core\\fromnumeric.py:3860: RuntimeWarning: Mean of empty slice.\n",
      "  return _methods._mean(a, axis=axis, dtype=dtype,\n",
      "c:\\Users\\hmbyx\\AppData\\Local\\Programs\\Python\\Python311\\Lib\\site-packages\\numpy\\_core\\_methods.py:145: RuntimeWarning: invalid value encountered in scalar divide\n",
      "  ret = ret.dtype.type(ret / rcount)\n"
     ]
    },
    {
     "name": "stdout",
     "output_type": "stream",
     "text": [
      "Now your codes should be bug-free.\n",
      "Setting up self.network with obs dim: 4 and action dim: 2\n"
     ]
    },
    {
     "name": "stderr",
     "output_type": "stream",
     "text": [
      "Training:   0%|          | 0/21 [00:00<?, ?it/s, ep_reward=9.4][INFO] Iter 9: Current memory contains 100 transitions, start learning!\n",
      "Training: 100%|██████████| 21/21 [00:00<00:00, 35.19it/s, ep_reward=9.5]"
     ]
    },
    {
     "name": "stdout",
     "output_type": "stream",
     "text": [
      "Environment is closed.\n",
      "Test passed!\n"
     ]
    },
    {
     "name": "stderr",
     "output_type": "stream",
     "text": [
      "\n"
     ]
    }
   ],
   "source": [
    "# Run this cell without modification\n",
    "\n",
    "# Build the test trainer.\n",
    "test_trainer = DQNTrainer({})\n",
    "\n",
    "# Test compute_values\n",
    "fake_state = test_trainer.env.observation_space.sample()\n",
    "processed_state = test_trainer.process_state(fake_state)\n",
    "assert processed_state.shape == (test_trainer.obs_dim,), processed_state.shape\n",
    "values = test_trainer.compute_values(processed_state)\n",
    "assert values.shape == (test_trainer.act_dim,), values.shape\n",
    "\n",
    "test_trainer.train()\n",
    "print(\"Now your codes should be bug-free.\")\n",
    "\n",
    "_ = run(DQNTrainer, dict(\n",
    "    max_iteration=20,\n",
    "    evaluate_interval=10,\n",
    "    learn_start=100,\n",
    "    env_name=\"CartPole-v1\",\n",
    "))\n",
    "\n",
    "test_trainer.save(\"test_trainer.pt\")\n",
    "test_trainer.load(\"test_trainer.pt\")\n",
    "\n",
    "print(\"Test passed!\")"
   ]
  },
  {
   "cell_type": "markdown",
   "id": "ff767ce5",
   "metadata": {},
   "source": [
    "### Section 3.3: Train DQN agents in CartPole"
   ]
  },
  {
   "cell_type": "markdown",
   "id": "a53bf178",
   "metadata": {},
   "source": [
    "First, we visualize a random agent in CartPole environment."
   ]
  },
  {
   "cell_type": "code",
   "execution_count": 16,
   "id": "0221e34d",
   "metadata": {},
   "outputs": [
    {
     "data": {
      "text/html": [
       "<table class=\"show_videos\" style=\"border-spacing:0px;\"><tr><td style=\"padding:1px;\"><video controls width=\"600\" height=\"400\" style=\"object-fit:cover;\" loop autoplay muted>\n",
       "      <source src=\"data:video/mp4;base64,AAAAIGZ0eXBpc29tAAACAGlzb21pc28yYXZjMW1wNDEAAAAIZnJlZQAAF3NtZGF0AAACgAYF//983EXpvebZSLeWLNgg2SPu73gyNjQgLSBjb3JlIDEzNSByMjM0NSBmMGMxYzUzIC0gSC4yNjQvTVBFRy00IEFWQyBjb2RlYyAtIENvcHlsZWZ0IDIwMDMtMjAxMyAtIGh0dHA6Ly93d3cudmlkZW9sYW4ub3JnL3gyNjQuaHRtbCAtIG9wdGlvbnM6IGNhYmFjPTEgcmVmPTMgZGVibG9jaz0xOjA6MCBhbmFseXNlPTB4MzoweDExMyBtZT1oZXggc3VibWU9NyBwc3k9MSBwc3lfcmQ9MS4wMDowLjAwIG1peGVkX3JlZj0xIG1lX3JhbmdlPTE2IGNocm9tYV9tZT0xIHRyZWxsaXM9MSA4eDhkY3Q9MSBjcW09MCBkZWFkem9uZT0yMSwxMSBmYXN0X3Bza2lwPTEgY2hyb21hX3FwX29mZnNldD0tMiB0aHJlYWRzPTEyIGxvb2thaGVhZF90aHJlYWRzPTIgc2xpY2VkX3RocmVhZHM9MCBucj0wIGRlY2ltYXRlPTEgaW50ZXJsYWNlZD0wIGJsdXJheV9jb21wYXQ9MCBjb25zdHJhaW5lZF9pbnRyYT0wIGJmcmFtZXM9MyBiX3B5cmFtaWQ9MiBiX2FkYXB0PTEgYl9iaWFzPTAgZGlyZWN0PTEgd2VpZ2h0Yj0xIG9wZW5fZ29wPTAgd2VpZ2h0cD0yIGtleWludD0yNTAga2V5aW50X21pbj0yNSBzY2VuZWN1dD00MCBpbnRyYV9yZWZyZXNoPTAgcmM9Y3FwIG1idHJlZT0wIHFwPTIwIGlwX3JhdGlvPTEuNDAgcGJfcmF0aW89MS4zMCBhcT0wAIAAAALsZYiEAP/+9KD4FM+hS8rMVr3YiJg5QODsnDOHYAAAAwAAAwAB6dDY/fz9YZuAAAAJYAImE0D8DzETFWKgSvAkMasiCb/Bel1wTkBwCgt5nVc9t+aECkZ8M8fgfGIXC0svyOIzqeuobAOMEQ19SO2efuYpjtAqmQ2Z6Aobjx/B3G8zgAVS6UTAVq/z94RPTViFIdYSLBXyzXdS2h6oNErFPmq+q1PTZ8qyGlewViahcCxsxXlZ8iSj81cM+0YX/S3lGriLQLNtwEj5hv/MzPn20nVMbcP7iJPPYiNAGSOrCqQBynrONXFhZZR8j80gpoDcQ9/uhjmzxbZTvH17P6ZIX8ufw2toaVsu1I60XLlIChWQd1tQ/Aote+4xpBEkEnFBqlJ4j+CqE8IXiwJf/Wb8cA7uBODczlue0FPUKey8bKx+zMGNBjG2gWEQMtw3FIidxRKRli/pLyMgC9lxe8YXWJXNbSno6ZpHU6t0rjeJiUgctLwxvYdnEfNX5Tl5ZeH/ZMcV8U80WpgXsILmY4VImNAaI4u7PyU5GN+tA4ekMquaWG6m3ai6c///4J510JAdBw3JSyyz/xMuFGqEsNLINTF4Whi6a4n/j2Amj2ocSIDbPJ+2sjayP41DzWfIFYObG0KjvH+NGI1uyBAq6pw/bigYBegqdqPVeq3hGGLPjfXimzswKORdnjBl1ktmD92w5jYVVT3TBLx2jReFouv9mp96si0slSvJ3EhLXtHwGX9DhVByP40hiCjCMIoqBwKc3aXGuZkDGkGadNixUB2FTc4nRS5wPj/0HaoluJ9oWUdCYEGm0ZgWkeD1qMfvZEFAflZVjkg+C8Bn2fW+/1JO0gs34Qiju9gjVnoEnGSkDRNBG5HfTr4HquddXIgA99/ig7OiiqkQDxY5MXWW+Ut+7MZYrUFdu9g2fT4BGFsqqgYpr7R75DVFA55IjtubNJ7TvboGNH+f6+gJjzKF6LDNGzSAAEFAAAADAAAqoQAAAM9BmiRsf+RAAADsjfpQcrNh7KGmjxV9lkf0NSpzwguvy6SOpmfoMgNL0KX6uo1FzZNrcX0oxC30c4huN/ZuJ0aiCGEdgANc85C5gZSZoWofSi2pyaBGBjEQHrtjm6sLtvG+nC+/ut4WZ+2R7P+7sfsIKf47nplttS+nCUDs21s9quU5YO+TjzwQjYvNuMYv/ym1yxBPdjIrbr30LJMI60hbm+izUeQ+sLBRsUPxiaTlYOP5X6TypST+SKE3L1Zn+3/0Jnz8hbIU3l/Uyfesu/AAAABvQZ5CeK8AAFqPoC0BafrkGhhhuFXu9ZkrnOR/NSg8NATILoQgOze4Fz6I5+8UYQ4fRcN4kKBRthHyg9lbEjvR1AAs2xcjMxyjsLlbV5p571SY3+fOdY3bDZjKHhrO03OrLDvf3nijzbBVcBgWDO+DAAAAGgGeYXRJ/wAAaC+ddSm2K4gtG1e+grDdALTcAAAAVwGeY2pJ/wAAaKq74ZXlC77O8dKEJnfBVSQYn8TIvjslDzGL9YbeOQ3HZqw0uvG18BgTQsraSGPn0Si4Y/nu0WkzM4GqsZnlBTbijxsNISQ1Gw+85W/2zQAAAG9BmmVJqEFomUwP/+RAAAADAEMSe2akRlyiFtVsvEjSQ++Bml4KVHhokflg+rgBNGDfnkseLUh/RTPYQSGPTyOnSyhwvZhxyZIQzzWp/no7Nfmk1RUROF96jgT2mgkC5ZpiTAQPrz4A6YJkdaiYdJkAAACFQZqJSeEKUmUwP+RAAADtNro4Qgta8z88meoJUIDra25O8OXu5rfZI7UcQGGaP4c5jeWRRkShomdHIQxYMJUSKVSFdUP2HvLwibU5mroetJ6CdCbrvViPZ3JY0wJO2bxVSepVNOE++309ERbbn6D32m3DzmsMN0wbKCWUHFfircyPWYwYPQAAAGNBnqdFNE1/AABa8ijWNCbjplkiPjdpZOFeVa18462ZyDCtBfdJjpbPouD9mMqS1IskwR4UYCAzkPbacIp2yZ2Qlp0ZoQabByQJrw/CqabVfWBugasPe3Tt0nHcSzaTlcuUfs0AAAB1AZ7GdEn/AAAn7p4h775PFuHmYXlqvq7T0bJG2Ui/mQXPX2s+xAJSl810f31p7KY/AcdjGLRuswgdxGflAgqnrU0ThsCoxoGeNh/ZjjgorCHFcT9UCBxpGdLzz7IfLK1PkqmbPwg3NqhYqi+p1GZ23jG7stuAAAAAGwGeyGpJ/wAAaKq1mgvPxwuKE4WQERwNEwPBgAAAANZBms1JqEFomUwP/+RAAADtKDZyzzdmBsqpUdjDUJDXapj1MU+To8yvKMf+9pSey2Cuqs4Fahh+v+3C1ung54x4OSY6zUlFCw+e25+PGxR1cOGJXfz8KsfSs+BNSiDKW5siclGGpVixAY0MkvXzgkgZD0utzzoUdwVleJl81GLOhohiqQbh92/hZ9caASUcGid62qlGBgqw8DL0jt4wAVikCWEeh4kAsugqk+aCRIOxPvohPMCZkhhidUzjbGc1ebWR23RQwt1X5j42IwfnqyFpxKeQixzBAAAAcEGe60URLX8AAFryISb0Azacs5+knWLv8r1+Jl6n3HujiNh3OS/GwJc9hgivInCuSoAdMWl37hSMcitHi1frRyMYYgdfH6wA+1t64oA/vMEb7ZCj4S0pcwWPuCFN8Pp+Uwxf8uzMQ1ZIXDqDWt1ei3AAAABhAZ8KdEn/AAAn7pkc8m+OwcEER0NKC0/4LbtSnVob7VXwTlfqAy6EScQRFrSafasnsPoF45e5QlgTjhqml6C+43/jg+n6xJDHxMJ8PRC9MUFaGyLcC8OAr25FmqjYF4+bMAAAAEABnwxqSf8AAGhTzNTTJ8Yu0SCylaIXKofZugT0WwLOCWMjFP08zbeGK3Mea1uidZf/M3R/oCMakd/Flh/VEmlRAAAALUGbEUmoQWyZTA//5EAAAPHoRyAwJGE3foNzVxQv5vuPzISLmpOtfByQhFmkgQAAAGdBny9FFS1/AABdMZezP+FS9e490dBbFkEvaVBkSFiFaCpxxNVTE8dF9CnmMTR4puhN3JuFLMJjYpLamysLvHFM76NCLT6uniEdguvGicpNlMR9Bmn2ubjsueUTxe8Rtuq7OGEx/WvBAAAAZgGfTnRJ/wAAaL+dES7eqjXEjowPZZs77ko+1HmO4LTgXefiMKMwCwQ21ruEEpNTIAvWASWWufZDSCAmEMfiiiNC9Q1lRSU+SxNBiznKIikNzeWRh9w6gB6w0yLiqZNbdVFg3/YtSAAAABoBn1BqSf8AAGsl426IhkkiVCymsRwoQWWOCAAAAQNBm1VJqEFsmUwP/+RAAADyI8HLAZOLf2YynPUbLFNane0rVp4WSTSIkikZ/zsAQTO2Q8fNQj6hb3mw4Gpp8Rg1WUo5ydQYdwtD3LD+EDf3RfVkNAhtiOM+eun5fbkaw3syAuQAghVMb8lRATfaUTbW2IZIyCZ/HW+qfv4olC4IuETyt7BNLLW0FvxhMTITnIHl7rYZmPglRAcOTsW/87koADj+qRNRhRbE0Fb3ErG2XZitIyTzjr4Yt+S9TSRHIOu/pfzq08ERFHjyI5QQKwvTKeoYL8VXDvI/woOUL3bflVqK/0oF8pozw2ItLRL3VGAydsu/9hpNRMWtGY0NME7hnZCXAAAA4UGfc0UVLX8AACJztwRi1fRlV0hcxSFSshmImz+LShnwu+fhWUjZ9TJXnS3UWheiuvKpeappE0lmMPL1yAS1D8To52gcATpV1+wvDjiuoBqGqE4aKSOVPjt/omj8mILAKhaPjy/SDI7O+RQIZpngfTZIrYlE2/+ookCZ3YLBdu2/X8a5GCu9UVQw51eoGfoeQO/Q2SbuJWNvgFB5+IdrMgeEE6rUrsQS/yS8dHhVpp/GxUw8YJia9fTVNx+/cR06EkP8APHJJcDY4uBAsUUO5gNgg1GPYg92pg46BmFfmOCOvAAAAHYBn5J0Sf8AACjklweRpnorh/Qe1kRsuPp/89GQFhkuUCasxw+Fciy63UG1VSqnW0Ml1XTKTniHnI+52WEBdeBk0nPhHQfqcORbhoI6Y3BttSBVn2yfiXtJlV0P+Vkoh8tLvDOdaz8q7ZOQgQVj9s5ECYk1R73AAAAAdQGflGpJ/wAAKQ6ZTKgyS4/eEILS73+eughHlX9qguBZhNUcErbOKosrySmAJdh4JFk/NlAExm8hSqJ+aYXA1GNCSYubYcYf+HTX2TTSZrSVYClzrXNL1kWfgjQYi8JFC9MsStnLFPo/KKvnPZ7i8pkvbGbUgQAAAcRBm5lJqEFsmUwP/+RAAADysMuw2aJ7/NfRyiijBzNHBDQAmio/KKliqS6SZDnKlTIEk6TnOvgyhGh9iwc7ANL2SbO8b05miW8I/W+TliyYLQueBFt9CatqC/4MYtnBziHrS0I+3VSlJ7lVu44Q4A/PyrjrYpAlONbrMAY+zy/DxXFK2qPGoULogNI3PDkdGg73arzlLC7tiZGHu9PzHDnjG8ecHAtMlKYe6zZujk8105jXKlI8y0ONRUU2h54x5Vn1i9CRS3B2lKHSiFb6DMx8V+22EDE+DpkAM46/uFZ+8nffSoqdnRdb49wIQQWxXOftbRVRebKgmdyCV4MeEIAYn7qrwStoCXFYo8Hf1VyJ+l9pcHRxfa5EtMI7NNTJESRJL00vGDSNXojnwMq3Ye8CxQdQ/aUBA/4cFSZMiAVtgYj6wCW2PniqCfuE82jJKa7nIW8mQZ6ENV4WyZ+PZM9JSwqvMC8rKB1bBBP8SXRngoIM4EpoptdO7nzlQNqOpuNlP9Gv1F2nS6yHcBr6keRHxyo4O3Agskt0rcIPI5FWEP8WhMvZGhsTWcxJezZ22cPjglzgnYzj3KPh3wwPMrWQbAgz0AAAAM1Bn7dFFS1/AABcnspSeQ/9Dh6+En4EGsHniBKVC2FXiowI67lBpwTwBA7KXYMfIE7hHl9hcL8ArmWjVpaKEXjYceZdqCCbHaqnRuAqRT48I6y9KjT0HHxy6aVUno/uYdDX+fHSVDR/K9gT4dyvvHS6hgJ5TWgwQHehdt/zZ3w3Yf46FTnxkign1+PF0M3p/xm7U1F8RrnUo8LqAGQTP+yb1kX3iOCytRBHPSoPJuOsNUhhzxOeXsk5gMiJrqk6wXO83OWhUHJlLLuta+mBAAAAlAGf1nRJ/wAAaL+dqU7Mgxvq+7qrEyFpVQ+GcRDfSuW8uDa6j5KQFnhafHgNzduOVddKkOJhaONviCFUqREsZtgX8KT5rIFxuh+a68j9JYSaaUeeKPbeMY5h3sd+iGUqWs9zOWMwLWBcwLVNQ/si6H9EAk5NLBlZnLY7DILnbf11OcZCl/2LifDhL6x5Yq56Ja4xBYEAAACEAZ/Yakn/AABq8ylf/0QQQF4M1jIOApdRqdAj1uL0VYK7CdndQ5IsUVwxEtcIOWddsyVCCS1vpmZk45+bexLj9hsvAzb8X/on6U7ZF7YX1pGUTxcOY7jmHCtIRr3XKI80OfP+9IUJ/m+2+wYcZknhUo1qaxgscFtHaqa3LizUzUrPCuhsAAACIkGb3UmoQWyZTA//5EAAAPPxyx5V+xr22jYyXseTcQwkyf6jvlJUFUR8E+zlYXqH/YmOxAggQZhKq4SmqnfdaV7Uc9kLacbQl3uKubLti6OL544oHLhzdDSPhEy8DBQeCsCXpWXoaNaZttpWZ+agQoNh6n458FNdDLnZpHZy/9XVF7XLEn5VcU+WWxkMTri4+8NOm7vffJswcpNGqWY6RoAhLEG28jEbGjgu48xHlrqwrlOtJFz3wMP6Q1DwVCY+o0XGIG/32mu0gfT7BM91LhtVBtXsF2Q8oeJl/0FzeT0XvtsO1vRalH4McrxfgGEBnCJbzmgljvyxgrICpIxPWI5UBDMlCeNktGWxT16C2f3DbTd1Kv4YZFWO662JtvV2aIhRntRpcJoEghIEbNijezgc9U6iT1UIxc5efr2k5pY8mtbtzNDHpG8/uq88KFYheTRQSlvFdAdjPXRkFAJOkdxAH1OiaXHhfgEK8SMQ0dkdW2cZezhrSjJq84ipHq2UMIOuYD3/MtJP/RYgoYPMv/5cZlKrwDlX0Y4g3TPmd7/kkxCL41jqErPTNkv3TG1rPUcINYx0ps1QXwCkJWAfCfFH5Hl6ZxQ8ryqERZq2wBuc1SguVgcecM6KXJNxcEsoUn6n1mtIlTzzeklepdYqnUvk7mvgWOsQtJb4yrYJHzP5cBX7YbBoscQoyLFeYOX9/Xq3uXCBOjaHdqxk3STC+0CWgQAAAQNBn/tFFS1/AABc4zteb908UqZcpJTgTg6x0cJ78Kj4IrOq1ASxbwlsR8Z7J7eVcC/czIf9yyf89L6ZmcdihmGTiFwHl+skfvGXcQdtv8qQ0j+X5mTJylPF91EhrqOybE28kVWFRKI1TPXivlgouwmL/HiqEfZmXN4Chv0S8ObWuZTd9LBk0siy9fZV8X9xywfJVbg+2oBc+xNFL+DKmAMM9Zfof15BcXetPMWqTDvvJk66vsL2vzM+MUHjzyPM61yxWWSWQ522PerE0ghpGtMPdXC+ABnLiet1sIfJa8ZzSqJixSk65UJwd5kipEiB46AT0gQpZAh74nRdZJMKWaB1/c4sAAAAvwGeGnRJ/wAAauM9ByEpdIKBFiTrkC8NFmuahz5NR5OPcvF+PesNV7glAsdcoTjS1C70I4n0Iq+pd8N8anR6MzXIHGYBw7RAFttooni0qbi2gi9WqOYEoCa356IlyJ3GgeM2ePFml4WygqbZQHlDTsGk0uw3VCixPrKUA4xfDH2oPJMsTHX98U4pEcEqaGC9CbwWvQO12K4JUzUS0pm8HHihGOWFArC21Lmk7KrS6feZBAA9BrLGIZw+E1kEbi+5AAAAlgGeHGpJ/wAAacU8Y/p+3v3pLVuc/ae1diLhulgT1VUsaIaWfKCJ2fa6qx7wu+2UBytdjEi5jNgQmfvkPvt3qfnoN7wpldIe8r+MijzbdeoPHMPEvB8vqup94IaQBTdhonChiHO/NunVvdp41BLMrOdhpR8ItVRc+J3ScQ2QBkbwneoknbZxXM351VJfoPov7m619jPPgQAABHttb292AAAAbG12aGQAAAAAAAAAAAAAAAAAAAPoAAAB9AABAAABAAAAAAAAAAAAAAAAAQAAAAAAAAAAAAAAAAAAAAEAAAAAAAAAAAAAAAAAAEAAAAAAAAAAAAAAAAAAAAAAAAAAAAAAAAAAAAAAAAACAAADpXRyYWsAAABcdGtoZAAAAA8AAAAAAAAAAAAAAAEAAAAAAAAB9AAAAAAAAAAAAAAAAAAAAAAAAQAAAAAAAAAAAAAAAAAAAAEAAAAAAAAAAAAAAAAAAEAAAAACWAAAAZAAAAAAACRlZHRzAAAAHGVsc3QAAAAAAAAAAQAAAfQAAAIAAAEAAAAAAx1tZGlhAAAAIG1kaGQAAAAAAAAAAAAAAAAAADwAAAAeAFXEAAAAAAAtaGRscgAAAAAAAAAAdmlkZQAAAAAAAAAAAAAAAFZpZGVvSGFuZGxlcgAAAALIbWluZgAAABR2bWhkAAAAAQAAAAAAAAAAAAAAJGRpbmYAAAAcZHJlZgAAAAAAAAABAAAADHVybCAAAAABAAACiHN0YmwAAACYc3RzZAAAAAAAAAABAAAAiGF2YzEAAAAAAAAAAQAAAAAAAAAAAAAAAAAAAAACWAGQAEgAAABIAAAAAAAAAAEAAAAAAAAAAAAAAAAAAAAAAAAAAAAAAAAAAAAAAAAAAAAY//8AAAAyYXZjQwFkAB//4QAZZ2QAH6zZQJgz5eEAAAMAAQAAAwB4DxgxlgEABmjr4bLIsAAAABhzdHRzAAAAAAAAAAEAAAAeAAABAAAAABRzdHNzAAAAAAAAAAEAAAABAAABAGN0dHMAAAAAAAAAHgAAAAEAAAIAAAAAAQAABQAAAAABAAACAAAAAAEAAAAAAAAAAQAAAQAAAAABAAACAAAAAAEAAAUAAAAAAQAAAgAAAAABAAAAAAAAAAEAAAEAAAAAAQAABQAAAAABAAACAAAAAAEAAAAAAAAAAQAAAQAAAAABAAAFAAAAAAEAAAIAAAAAAQAAAAAAAAABAAABAAAAAAEAAAUAAAAAAQAAAgAAAAABAAAAAAAAAAEAAAEAAAAAAQAABQAAAAABAAACAAAAAAEAAAAAAAAAAQAAAQAAAAABAAAFAAAAAAEAAAIAAAAAAQAAAAAAAAABAAABAAAAABxzdHNjAAAAAAAAAAEAAAABAAAAHgAAAAEAAACMc3RzegAAAAAAAAAAAAAAHgAABXQAAADTAAAAcwAAAB4AAABbAAAAcwAAAIkAAABnAAAAeQAAAB8AAADaAAAAdAAAAGUAAABEAAAAMQAAAGsAAABqAAAAHgAAAQcAAADlAAAAegAAAHkAAAHIAAAA0QAAAJgAAACIAAACJgAAAQcAAADDAAAAmgAAABRzdGNvAAAAAAAAAAEAAAAwAAAAYnVkdGEAAABabWV0YQAAAAAAAAAhaGRscgAAAAAAAAAAbWRpcmFwcGwAAAAAAAAAAAAAAAAtaWxzdAAAACWpdG9vAAAAHWRhdGEAAAABAAAAAExhdmY1NS4xNC4xMDE=\" type=\"video/mp4\"/>\n",
       "      This browser does not support the video tag.\n",
       "      </video></td></tr></table>"
      ],
      "text/plain": [
       "<IPython.core.display.HTML object>"
      ]
     },
     "metadata": {},
     "output_type": "display_data"
    },
    {
     "name": "stdout",
     "output_type": "stream",
     "text": [
      "A random agent achieves 30.0 return.\n"
     ]
    }
   ],
   "source": [
    "# Run this cell without modification\n",
    "\n",
    "eval_reward, eval_info = evaluate(\n",
    "    policy=lambda x: np.random.randint(2),\n",
    "    num_episodes=1,\n",
    "    env_name=\"CartPole-v1\",\n",
    "    render=\"rgb_array\",  # Visualize the behavior here in the cell \n",
    ")\n",
    "\n",
    "animate(eval_info[\"frames\"])\n",
    "\n",
    "print(\"A random agent achieves {} return.\".format(eval_reward))"
   ]
  },
  {
   "cell_type": "code",
   "execution_count": 17,
   "id": "957a5dbc",
   "metadata": {
    "colab": {
     "base_uri": "https://localhost:8080/"
    },
    "id": "957a5dbc",
    "outputId": "71a980c5-2bad-4727-f703-a4562af7028a"
   },
   "outputs": [
    {
     "name": "stdout",
     "output_type": "stream",
     "text": [
      "Setting up self.network with obs dim: 4 and action dim: 2\n"
     ]
    },
    {
     "name": "stderr",
     "output_type": "stream",
     "text": [
      "Training:  64%|██████▍   | 3200/5001 [01:27<02:18, 13.01it/s, ep_reward=500] [INFO] Iter 3200, episodic return 500.000 is greater than reward threshold 450.0. Congratulation! Now we exit the training process.\n",
      "Training:  64%|██████▍   | 3200/5001 [01:27<00:49, 36.52it/s, ep_reward=500]\n"
     ]
    },
    {
     "name": "stdout",
     "output_type": "stream",
     "text": [
      "Environment is closed.\n"
     ]
    }
   ],
   "source": [
    "# Run this cell without modification\n",
    "\n",
    "pytorch_trainer, pytorch_stat = run(DQNTrainer, dict(\n",
    "    max_iteration=5000,\n",
    "    evaluate_interval=100,\n",
    "    learning_rate=0.001,\n",
    "    clip_norm=10.0,\n",
    "    memory_size=50000,\n",
    "    learn_start=1000,\n",
    "    eps=0.1,\n",
    "    target_update_freq=2000,\n",
    "    batch_size=128,\n",
    "    learn_freq=32,\n",
    "    env_name=\"CartPole-v1\",\n",
    "), reward_threshold=450.0)\n",
    "\n",
    "reward, _ = pytorch_trainer.evaluate()\n",
    "assert reward > 400.0, \"Check your codes. \" \\\n",
    "                       \"Your agent should achieve {} reward in 5000 iterations.\" \\\n",
    "                       \"But it achieve {} reward in evaluation.\".format(400.0, reward)\n",
    "\n",
    "pytorch_trainer.save(\"dqn_trainer_cartpole.pt\")\n",
    "\n",
    "# Should solve the task in 10 minutes"
   ]
  },
  {
   "cell_type": "code",
   "execution_count": 18,
   "id": "66a4cf9a",
   "metadata": {
    "colab": {
     "base_uri": "https://localhost:8080/",
     "height": 434
    },
    "id": "66a4cf9a",
    "outputId": "ac906699-4cd4-40ad-eaea-d41b975d6a14"
   },
   "outputs": [
    {
     "data": {
      "text/html": [
       "<table class=\"show_videos\" style=\"border-spacing:0px;\"><tr><td style=\"padding:1px;\"><video controls width=\"600\" height=\"400\" style=\"object-fit:cover;\" loop autoplay muted>\n",
       "      <source src=\"data:video/mp4;base64,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\" type=\"video/mp4\"/>\n",
       "      This browser does not support the video tag.\n",
       "      </video></td></tr></table>"
      ],
      "text/plain": [
       "<IPython.core.display.HTML object>"
      ]
     },
     "metadata": {},
     "output_type": "display_data"
    },
    {
     "name": "stdout",
     "output_type": "stream",
     "text": [
      "DQN agent achieves 500.0 return.\n"
     ]
    }
   ],
   "source": [
    "# Run this cell without modification\n",
    "\n",
    "# Render the learned behavior\n",
    "eval_reward, eval_info = evaluate(\n",
    "    policy=pytorch_trainer.policy,\n",
    "    num_episodes=1,\n",
    "    env_name=pytorch_trainer.env_name,\n",
    "    render=\"rgb_array\",  # Visualize the behavior here in the cell \n",
    ")\n",
    "\n",
    "animate(eval_info[\"frames\"])\n",
    "\n",
    "print(\"DQN agent achieves {} return.\".format(eval_reward))"
   ]
  },
  {
   "cell_type": "markdown",
   "id": "98b60f6c",
   "metadata": {},
   "source": [
    "### Section 3.4: Train DQN agents in MetaDrive"
   ]
  },
  {
   "cell_type": "code",
   "execution_count": 19,
   "id": "e93c9cea",
   "metadata": {
    "id": "e93c9cea"
   },
   "outputs": [],
   "source": [
    "# Run this cell without modification\n",
    "\n",
    "def register_metadrive():\n",
    "    try:\n",
    "        from metadrive.envs import MetaDriveEnv\n",
    "        from metadrive.utils.config import merge_config_with_unknown_keys\n",
    "    except ImportError as e:\n",
    "        print(\"Please install MetaDrive through: pip install git+https://github.com/metadriverse/metadrive\")\n",
    "        raise e\n",
    "\n",
    "    env_names = []\n",
    "    try:\n",
    "        class MetaDriveEnvTut(gym.Wrapper):\n",
    "            def __init__(self, config, *args, render_mode=None, **kwargs):\n",
    "                # Ignore render_mode\n",
    "                self._render_mode = render_mode\n",
    "                super().__init__(MetaDriveEnv(config))\n",
    "                self.env.logger.setLevel(logging.FATAL)\n",
    "                self.action_space = gym.spaces.Discrete(int(np.prod(self.env.action_space.n)))\n",
    "\n",
    "            def reset(self, *args, seed=None, render_mode=None, options=None, **kwargs):\n",
    "                # Ignore seed and render_mode\n",
    "                return self.env.reset(*args, **kwargs)\n",
    "\n",
    "            def render(self):\n",
    "                return self.env.render(mode=self._render_mode)\n",
    "\n",
    "        def _make_env(*args, **kwargs):\n",
    "            return MetaDriveEnvTut(*args, **kwargs)\n",
    "\n",
    "        env_name = \"MetaDrive-Tut-Easy-v0\"\n",
    "        gym.register(id=env_name, entry_point=_make_env, kwargs={\"config\": dict(\n",
    "            map=\"S\",\n",
    "            start_seed=0,\n",
    "            num_scenarios=1,\n",
    "            horizon=200,\n",
    "            discrete_action=True,\n",
    "            discrete_steering_dim=3,\n",
    "            discrete_throttle_dim=3\n",
    "        )})\n",
    "        env_names.append(env_name)\n",
    "\n",
    "        env_name = \"MetaDrive-Tut-Hard-v0\"\n",
    "        gym.register(id=env_name, entry_point=_make_env, kwargs={\"config\": dict(\n",
    "            map=\"CCC\",\n",
    "            start_seed=0,\n",
    "            num_scenarios=10,\n",
    "            discrete_action=True,\n",
    "            discrete_steering_dim=5,\n",
    "            discrete_throttle_dim=5\n",
    "        )})\n",
    "        env_names.append(env_name)\n",
    "    except gym.error.Error as e:\n",
    "        print(\"Information when registering MetaDrive: \", e)\n",
    "    else:\n",
    "        print(\"Successfully registered MetaDrive environments: \", env_names)\n"
   ]
  },
  {
   "cell_type": "code",
   "execution_count": 20,
   "id": "89fb5d1e",
   "metadata": {
    "colab": {
     "base_uri": "https://localhost:8080/"
    },
    "id": "89fb5d1e",
    "outputId": "2eb2cf53-138d-4143-b36c-eadbcfa11be7"
   },
   "outputs": [
    {
     "name": "stdout",
     "output_type": "stream",
     "text": [
      "Successfully registered MetaDrive environments:  ['MetaDrive-Tut-Easy-v0', 'MetaDrive-Tut-Hard-v0']\n"
     ]
    }
   ],
   "source": [
    "# Run this cell without modification\n",
    "\n",
    "register_metadrive()"
   ]
  },
  {
   "cell_type": "code",
   "execution_count": 21,
   "id": "b580ec99",
   "metadata": {
    "colab": {
     "base_uri": "https://localhost:8080/"
    },
    "id": "b580ec99",
    "outputId": "08cd25dc-2ed5-46b5-e2ed-3ecf86e61942"
   },
   "outputs": [
    {
     "name": "stderr",
     "output_type": "stream",
     "text": [
      "\u001b[38;20m[INFO] Environment: MetaDriveEnv\u001b[0m\n",
      "\u001b[38;20m[INFO] MetaDrive version: 0.4.3\u001b[0m\n",
      "\u001b[38;20m[INFO] Sensors: [lidar: Lidar(), side_detector: SideDetector(), lane_line_detector: LaneLineDetector()]\u001b[0m\n",
      "\u001b[38;20m[INFO] Render Mode: none\u001b[0m\n",
      "\u001b[38;20m[INFO] Horizon (Max steps per agent): 200\u001b[0m\n"
     ]
    },
    {
     "name": "stdout",
     "output_type": "stream",
     "text": [
      "Setting up self.network with obs dim: 259 and action dim: 9\n"
     ]
    },
    {
     "name": "stderr",
     "output_type": "stream",
     "text": [
      "c:\\Users\\hmbyx\\AppData\\Local\\Programs\\Python\\Python311\\Lib\\site-packages\\numpy\\_core\\fromnumeric.py:3860: RuntimeWarning: Mean of empty slice.\n",
      "  return _methods._mean(a, axis=axis, dtype=dtype,\n",
      "c:\\Users\\hmbyx\\AppData\\Local\\Programs\\Python\\Python311\\Lib\\site-packages\\numpy\\_core\\_methods.py:145: RuntimeWarning: invalid value encountered in scalar divide\n",
      "  ret = ret.dtype.type(ret / rcount)\n"
     ]
    },
    {
     "name": "stdout",
     "output_type": "stream",
     "text": [
      "Now your codes should be bug-free.\n"
     ]
    }
   ],
   "source": [
    "# Run this cell without modification\n",
    "\n",
    "# Build the test trainer.\n",
    "test_trainer = DQNTrainer(dict(env_name=\"MetaDrive-Tut-Easy-v0\"))\n",
    "\n",
    "# Test compute_values\n",
    "for _ in range(10):\n",
    "    fake_state = test_trainer.env.observation_space.sample()\n",
    "    processed_state = test_trainer.process_state(fake_state)\n",
    "    assert processed_state.shape == (test_trainer.obs_dim,), processed_state.shape\n",
    "    values = test_trainer.compute_values(processed_state)\n",
    "    assert values.shape == (test_trainer.act_dim,), values.shape\n",
    "\n",
    "    test_trainer.train()\n",
    "\n",
    "print(\"Now your codes should be bug-free.\")\n",
    "test_trainer.env.close()\n",
    "del test_trainer"
   ]
  },
  {
   "cell_type": "code",
   "execution_count": 22,
   "id": "675c9809",
   "metadata": {
    "colab": {
     "base_uri": "https://localhost:8080/"
    },
    "id": "675c9809",
    "outputId": "a45d5773-fc88-464b-ad5c-10dcf94b599f"
   },
   "outputs": [
    {
     "name": "stderr",
     "output_type": "stream",
     "text": [
      "\u001b[38;20m[INFO] Environment: MetaDriveEnv\u001b[0m\n",
      "\u001b[38;20m[INFO] MetaDrive version: 0.4.3\u001b[0m\n",
      "\u001b[38;20m[INFO] Sensors: [lidar: Lidar(), side_detector: SideDetector(), lane_line_detector: LaneLineDetector()]\u001b[0m\n",
      "\u001b[38;20m[INFO] Render Mode: none\u001b[0m\n",
      "\u001b[38;20m[INFO] Horizon (Max steps per agent): 200\u001b[0m\n"
     ]
    },
    {
     "name": "stdout",
     "output_type": "stream",
     "text": [
      "Setting up self.network with obs dim: 259 and action dim: 9\n"
     ]
    },
    {
     "name": "stderr",
     "output_type": "stream",
     "text": [
      "Training:   0%|          | 20/5001 [00:11<15:51,  5.23it/s, ep_reward=125]      [INFO] Iter 20, episodic return 125.053 is greater than reward threshold 120. Congratulation! Now we exit the training process.\n",
      "Training:   0%|          | 20/5001 [00:11<48:13,  1.72it/s, ep_reward=125]\n",
      "\u001b[38;20m[INFO] Environment: MetaDriveEnv\u001b[0m\n",
      "\u001b[38;20m[INFO] MetaDrive version: 0.4.3\u001b[0m\n",
      "\u001b[38;20m[INFO] Sensors: [lidar: Lidar(), side_detector: SideDetector(), lane_line_detector: LaneLineDetector()]\u001b[0m\n",
      "\u001b[38;20m[INFO] Render Mode: none\u001b[0m\n",
      "\u001b[38;20m[INFO] Horizon (Max steps per agent): 200\u001b[0m\n"
     ]
    },
    {
     "name": "stdout",
     "output_type": "stream",
     "text": [
      "Environment is closed.\n",
      "Evaluating 1/1 episodes. We are in 1/1000 steps. Current episode reward: 0.008\n",
      "Evaluating 1/1 episodes. We are in 51/1000 steps. Current episode reward: 37.142\n",
      "DQN agent achieves 125.05254010105511 return in MetaDrive easy environment.\n"
     ]
    }
   ],
   "source": [
    "# Run this cell without modification\n",
    "\n",
    "env_name = \"MetaDrive-Tut-Easy-v0\"\n",
    "\n",
    "pytorch_trainer2, _ = run(DQNTrainer, dict(\n",
    "    max_episode_length=200,\n",
    "    max_iteration=5000,\n",
    "    evaluate_interval=10,\n",
    "    evaluate_num_episodes=10,\n",
    "    learning_rate=0.0001,\n",
    "    clip_norm=10.0,\n",
    "    memory_size=1000000,\n",
    "    learn_start=2000,\n",
    "    eps=0.1,\n",
    "    target_update_freq=5000,\n",
    "    learn_freq=16,\n",
    "    batch_size=256,\n",
    "    env_name=env_name\n",
    "), reward_threshold=120)\n",
    "\n",
    "pytorch_trainer2.save(\"dqn_trainer_metadrive_easy.pt\")\n",
    "\n",
    "# Run this cell without modification\n",
    "\n",
    "# Render the learned behavior\n",
    "# NOTE: The learned agent is marked by green color.\n",
    "eval_reward, eval_info = evaluate(\n",
    "    policy=pytorch_trainer2.policy,\n",
    "    num_episodes=1,\n",
    "    env_name=pytorch_trainer2.env_name,\n",
    "    render=\"topdown\",  # Visualize the behaviors in top-down view\n",
    "    verbose=True\n",
    ")\n",
    "print(\"DQN agent achieves {} return in MetaDrive easy environment.\".format(eval_reward))"
   ]
  },
  {
   "cell_type": "code",
   "execution_count": 23,
   "id": "f4df9a42-c02a-4122-808a-9b04b2d8056a",
   "metadata": {},
   "outputs": [
    {
     "data": {
      "text/html": [
       "<table class=\"show_videos\" style=\"border-spacing:0px;\"><tr><td style=\"padding:1px;\"><video controls width=\"800\" height=\"800\" style=\"object-fit:cover;\" loop autoplay muted>\n",
       "      <source src=\"data:video/mp4;base64,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\" type=\"video/mp4\"/>\n",
       "      This browser does not support the video tag.\n",
       "      </video></td></tr></table>"
      ],
      "text/plain": [
       "<IPython.core.display.HTML object>"
      ]
     },
     "metadata": {},
     "output_type": "display_data"
    }
   ],
   "source": [
    "# Run this cell directly.\n",
    "\n",
    "# Visualize MetaDrive performance\n",
    "animate(eval_info[\"frames\"])"
   ]
  },
  {
   "cell_type": "markdown",
   "id": "2c86871e",
   "metadata": {},
   "source": [
    "## Section 4: Policy gradient methods - REINFORCE\n",
    "\n",
    "(30 / 100 points)\n",
    "\n",
    "Unlike the supervised learning, in RL, the optimization objective, the episodic return, is not differentiable w.r.t. the neural network parameters. This can be solved via ***Policy Gradient***. It can be proved that policy gradient is an unbiased estimator of the gradient of the objective.\n",
    "\n",
    "Concretely, let's consider such optimization objective:\n",
    "\n",
    "$$Q = \\mathbb E_{\\text{possible trajectories}} \\sum_t r(a_t, s_t) = \\sum_{s_0, a_0,..} p(s_0, a_0, ..., s_t, a_t) r(s_0, a_0, ..., s_t, a_t) = \\sum_{\\tau} p(\\tau)r(\\tau)$$ \n",
    "\n",
    "wherein $\\sum_t r(a_t, s_t) = r(\\tau)$ is the return of trajectory $\\tau = (s_0, a_0, ...)$. We remove the discount factor for simplicity.\n",
    "Since we want to maximize Q, we can simply compute the gradient of Q w.r.t. parameter $\\theta$ (which is implictly included in $p(\\tau)$):\n",
    "\n",
    "$$\\nabla_\\theta Q = \\nabla_\\theta \\sum_{\\tau} p(\\tau)r(\\tau) = \\sum_{\\tau} r(\\tau) \\nabla_\\theta p(\\tau)$$\n",
    "\n",
    "wherein we've applied a famous trick: $\\nabla_\\theta p(\\tau) = p(\\tau)\\cfrac{\\nabla_\\theta p(\\tau)}{p(\\tau)} = p(\\tau)\\nabla_\\theta \\log p(\\tau)$. Here the $r(\\tau)$ will be determined when $\\tau$ is determined. So it has nothing to do with the policy. We can move it out from the gradient.\n",
    "\n",
    "Introducing a log term can change the product of probabilities to sum of log probabilities. Now we can expand the log of product above to sum of log:\n",
    "\n",
    "$$p_\\theta(\\tau) = p(s_0, a_0, ...) = p(s_0) \\prod_t \\pi_\\theta (a_t|s_t) p(s_{t+1}|s_t, a_t)$$\n",
    "\n",
    "$$\\log p_\\theta (\\tau) = \\log p(s_0) + \\sum_t \\log \\pi_\\theta(a_t|s_t) + \\sum_t \\log p(s_{t+1}|s_t, a_t)$$\n",
    "\n",
    "You can find that the first and third term are not correlated to the parameter of policy $\\pi_\\theta(\\cdot)$. So when we compute $\\nabla_\\theta Q$, we find \n",
    "\n",
    "$$\\nabla_\\theta Q =\n",
    "\\sum_{\\tau} r(\\tau) \\nabla_\\theta p(\\tau) =  \n",
    "\\sum_{\\tau} r(\\tau) p(\\tau)\\nabla_\\theta \\log p(\\tau) =\n",
    "\\sum p_\\theta(\\tau) ( \\sum_t  \\nabla_\\theta \\log \\pi_\\theta(a_t|s_t) ) r(\\tau) d\\tau$$\n",
    "\n",
    "When we sample sufficient amount of data from the environment, the above equation can be estimated via:\n",
    "\n",
    "$$\\nabla_\\theta Q =\\cfrac{1}{N}\\sum_{i=1}^N [( \\sum_t  \\nabla_\\theta \\log \\pi_\\theta(a_{i,t}|s_{i,t}) (\\sum_{t'=t} \\gamma^{t'-t} r(s_{i,t'}, a_{i,t'}) )]$$\n",
    "\n",
    "This algorithm is called REINFORCE algorithm, which is a Monte Carlo Policy Gradient algorithm with long history. In this section, we will implement the it using pytorch."
   ]
  },
  {
   "cell_type": "markdown",
   "id": "3f3f6bf3",
   "metadata": {},
   "source": [
    "The policy network is composed by two parts: \n",
    "\n",
    "1. A basic neural network serves as the function approximator. It outputs raw values parameterizing the action distribution given current observation. We will reuse PytorchModel here.\n",
    "2. A distribution layer builds upon the neural network to wrap the raw logits output from neural network to a distribution and provides API for sampling action and computing log probability."
   ]
  },
  {
   "cell_type": "markdown",
   "id": "20b067b5",
   "metadata": {},
   "source": [
    "### Section 4.1: Build REINFORCE"
   ]
  },
  {
   "cell_type": "code",
   "execution_count": 24,
   "id": "82ccbd96",
   "metadata": {},
   "outputs": [],
   "source": [
    "# Solve the TODOs and remove `pass`\n",
    "\n",
    "class PGNetwork(nn.Module):\n",
    "    def __init__(self, obs_dim, act_dim, hidden_units=128):\n",
    "        super(PGNetwork, self).__init__()\n",
    "        self.network = PytorchModel(obs_dim, act_dim, hidden_units)\n",
    "\n",
    "    def forward(self, obs):\n",
    "        logit = self.network(obs)\n",
    "\n",
    "        # TODO: Create an object of the class \"torch.distributions.Categorical\" \n",
    "        dist_obj = torch.distributions.Categorical(logits=logit)\n",
    "        # Then sample an action from it.\n",
    "        action = dist_obj.sample()\n",
    "\n",
    "        return action\n",
    "\n",
    "    def log_prob(self, obs, act):\n",
    "        logits = self.network(obs)\n",
    "\n",
    "        # TODO: Create an object of the class \"torch.distributions.Categorical\" \n",
    "        # Then get the log probability of the action `act` in this distribution.\n",
    "        dist_obj = torch.distributions.Categorical(logits=logits)\n",
    "        log_prob = dist_obj.log_prob(act)\n",
    "\n",
    "        return log_prob\n",
    "\n",
    "# Note that we do not implement GaussianPolicy here. So we can't\n",
    "# apply our algorithm to the environment with continous action.\n"
   ]
  },
  {
   "cell_type": "code",
   "execution_count": 27,
   "id": "3d772f93",
   "metadata": {},
   "outputs": [],
   "source": [
    "# Solve the TODOs and remove `pass`\n",
    "\n",
    "PG_DEFAULT_CONFIG = merge_config(dict(\n",
    "    normalize_advantage=True,\n",
    "    max_episode_length=1000,\n",
    "    clip_norm=10.0,\n",
    "    clip_gradient=True,\n",
    "    hidden_units=100,\n",
    "    max_iteration=1000,\n",
    "    train_batch_size=1000,\n",
    "    gamma=0.99,\n",
    "    learning_rate=0.001,\n",
    "    env_name=\"CartPole-v1\",\n",
    "), DEFAULT_CONFIG)\n",
    "\n",
    "\n",
    "class PGTrainer(AbstractTrainer):\n",
    "    def __init__(self, config=None):\n",
    "        config = merge_config(config, PG_DEFAULT_CONFIG)\n",
    "        super().__init__(config)\n",
    "\n",
    "        self.iteration = 0\n",
    "        self.start_time = time.time()\n",
    "        self.iteration_time = self.start_time\n",
    "        self.total_timesteps = 0\n",
    "        self.total_episodes = 0\n",
    "\n",
    "        # build the model\n",
    "        self.initialize_parameters()\n",
    "\n",
    "    def initialize_parameters(self):\n",
    "        \"\"\"Build the policy network and related optimizer\"\"\"\n",
    "        # Detect whether you have GPU or not. Remember to call X.to(self.device)\n",
    "        # if necessary.\n",
    "        self.device = torch.device(\n",
    "            \"xpu\" if torch.xpu.is_available() else \"cuda\" if torch.cuda.is_available() else \"cpu\"\n",
    "        )\n",
    "\n",
    "        # TODO Build the policy network using CategoricalPolicy\n",
    "        # Hint: Remember to pass config[\"hidden_units\"], and set policy network\n",
    "        #  to the device you are using.\n",
    "        self.network = PGNetwork(\n",
    "            self.obs_dim,\n",
    "            self.act_dim,\n",
    "            hidden_units=self.config[\"hidden_units\"]\n",
    "        ).to(self.device)\n",
    "\n",
    "        # Build the Adam optimizer.\n",
    "        self.optimizer = torch.optim.Adam(\n",
    "            self.network.parameters(),\n",
    "            lr=self.config[\"learning_rate\"]\n",
    "        )\n",
    "\n",
    "    def to_tensor(self, array):\n",
    "        \"\"\"Transform a numpy array to a pytorch tensor\"\"\"\n",
    "        return torch.from_numpy(array).type(torch.float32).to(self.device)\n",
    "\n",
    "    def to_array(self, tensor):\n",
    "        \"\"\"Transform a pytorch tensor to a numpy array\"\"\"\n",
    "        ret = tensor.cpu().detach().numpy()\n",
    "        if ret.size == 1:\n",
    "            ret = ret.item()\n",
    "        return ret\n",
    "\n",
    "    def save(self, loc=\"model.pt\"):\n",
    "        torch.save(self.network.state_dict(), loc)\n",
    "\n",
    "    def load(self, loc=\"model.pt\"):\n",
    "        self.network.load_state_dict(torch.load(loc))\n",
    "\n",
    "    def compute_action(self, observation, eps=None):\n",
    "        \"\"\"Compute the action for single observation. eps is useless here.\"\"\"\n",
    "        assert observation.ndim == 1\n",
    "        # TODO: Sample an action from the action distribution given by the policy.\n",
    "        # Hint: The input of policy network is a tensor with the first dimension to the \n",
    "        #  batch dimension. Therefore you need to expand the first dimension of the observation\n",
    "        #  and convert it to a tensor (via to_tensor) before feeding it to the policy network.\n",
    "        #  Then, you need to unbatch the output action and convert it from a tensor to a numpy\n",
    "        #  array before returning.\n",
    "        observation_tensor = self.to_tensor(observation).unsqueeze(0)\n",
    "        action = self.network(observation_tensor)\n",
    "        action = self.to_array(action)\n",
    "        \n",
    "        return action\n",
    "\n",
    "    def compute_log_probs(self, observation, action):\n",
    "        \"\"\"Compute the log probabilities of a batch of state-action pair\"\"\"\n",
    "        # TODO: Use the function of policy network to get log probs.\n",
    "        # Hint: Remember to transform the data into tensor before feeding it into the network.\n",
    "        observation_tensor = self.to_tensor(observation)\n",
    "        action_tensor = torch.tensor(action, dtype=torch.int64, device=self.device)\n",
    "        log_probs = self.network.log_prob(observation_tensor, action_tensor)\n",
    "        \n",
    "        return log_probs\n",
    "\n",
    "    def update_network(self, processed_samples):\n",
    "        \"\"\"Update the policy network\"\"\"\n",
    "        advantages = self.to_tensor(processed_samples[\"advantages\"])\n",
    "        flat_obs = np.concatenate(processed_samples[\"obs\"])\n",
    "        flat_act = np.concatenate(processed_samples[\"act\"])\n",
    "\n",
    "        self.network.train()\n",
    "        self.optimizer.zero_grad()\n",
    "\n",
    "        log_probs = self.compute_log_probs(flat_obs, flat_act)\n",
    "\n",
    "        assert log_probs.shape == advantages.shape, \"log_probs shape {} is not \" \\\n",
    "                                                    \"compatible with advantages {}\".format(log_probs.shape,\n",
    "                                                                                           advantages.shape)\n",
    "\n",
    "        # TODO: Compute the policy gradient loss.\n",
    "        loss = -(log_probs * advantages).mean()\n",
    "\n",
    "        loss.backward()\n",
    "\n",
    "        # Clip the gradient\n",
    "        torch.nn.utils.clip_grad_norm_(\n",
    "            self.network.parameters(), self.config[\"clip_gradient\"]\n",
    "        )\n",
    "\n",
    "        self.optimizer.step()\n",
    "        self.network.eval()\n",
    "\n",
    "        update_info = {\n",
    "            \"policy_loss\": loss.item(),\n",
    "            \"mean_log_prob\": torch.mean(log_probs).item(),\n",
    "            \"mean_advantage\": torch.mean(advantages).item()\n",
    "        }\n",
    "        return update_info\n",
    "\n",
    "    # ===== Training-related functions =====\n",
    "    def collect_samples(self):\n",
    "        \"\"\"Here we define the pipeline to collect sample even though\n",
    "        any specify functions are not implemented yet.\n",
    "        \"\"\"\n",
    "        iter_timesteps = 0\n",
    "        iter_episodes = 0\n",
    "        episode_lens = []\n",
    "        episode_rewards = []\n",
    "        episode_obs_list = []\n",
    "        episode_act_list = []\n",
    "        episode_reward_list = []\n",
    "        success_list = []\n",
    "        while iter_timesteps <= self.config[\"train_batch_size\"]:\n",
    "            obs_list, act_list, reward_list = [], [], []\n",
    "            obs, info = self.env.reset()\n",
    "            steps = 0\n",
    "            episode_reward = 0\n",
    "            while True:\n",
    "                act = self.compute_action(obs)\n",
    "\n",
    "                next_obs, reward, terminated, truncated, step_info = self.env.step(act)\n",
    "                done = terminated or truncated\n",
    "\n",
    "                obs_list.append(obs)\n",
    "                act_list.append(act)\n",
    "                reward_list.append(reward)\n",
    "\n",
    "                obs = next_obs.copy()\n",
    "                steps += 1\n",
    "                episode_reward += reward\n",
    "                if done or steps > self.config[\"max_episode_length\"]:\n",
    "                    if \"arrive_dest\" in step_info:\n",
    "                        success_list.append(step_info[\"arrive_dest\"])\n",
    "                    break\n",
    "            iter_timesteps += steps\n",
    "            iter_episodes += 1\n",
    "            episode_rewards.append(episode_reward)\n",
    "            episode_lens.append(steps)\n",
    "            episode_obs_list.append(np.array(obs_list, dtype=np.float32))\n",
    "            episode_act_list.append(np.array(act_list, dtype=np.float32))\n",
    "            episode_reward_list.append(np.array(reward_list, dtype=np.float32))\n",
    "\n",
    "        # The return `samples` is a dict that contains several key-value pair.\n",
    "        # The value of each key-value pair is a list storing the data in one episode.\n",
    "        samples = {\n",
    "            \"obs\": episode_obs_list,\n",
    "            \"act\": episode_act_list,\n",
    "            \"reward\": episode_reward_list\n",
    "        }\n",
    "\n",
    "        sample_info = {\n",
    "            \"iter_timesteps\": iter_timesteps,\n",
    "            \"iter_episodes\": iter_episodes,\n",
    "            \"performance\": np.mean(episode_rewards),  # help drawing figures\n",
    "            \"ep_len\": float(np.mean(episode_lens)),\n",
    "            \"ep_ret\": float(np.mean(episode_rewards)),\n",
    "            \"episode_len\": sum(episode_lens),\n",
    "            \"success_rate\": np.mean(success_list)\n",
    "        }\n",
    "        return samples, sample_info\n",
    "\n",
    "    def process_samples(self, samples):\n",
    "        \"\"\"Process samples and add advantages in it\"\"\"\n",
    "        values = []\n",
    "        for reward_list in samples[\"reward\"]:\n",
    "            # reward_list contains rewards at each step in one episode\n",
    "            returns = np.zeros_like(reward_list, dtype=np.float32)\n",
    "            Q = 0\n",
    "\n",
    "            # TODO: Scan the reward_list in a reverse order and compute the\n",
    "            # discounted return at each time step. Fill the array `returns`\n",
    "            # iterate over the rewards backwards\n",
    "            # accumulate future rewards and compute the return at each time step\n",
    "            for t in reversed(range(len(reward_list))):\n",
    "                Q = reward_list[t] + self.config[\"gamma\"] * Q  # Discounted return\n",
    "                returns[t] = Q\n",
    "\n",
    "            values.append(returns)\n",
    "\n",
    "        # We call the values advantage here. Ideally, we should subtract the values\n",
    "        # by baselines so that they become real advantages.\n",
    "        advantages = np.concatenate(values)\n",
    "\n",
    "        if self.config[\"normalize_advantage\"]:\n",
    "            # TODO: normalize the advantage so that it's mean is\n",
    "            # almost 0 and the its standard deviation is almost 1.\n",
    "            mean = np.mean(advantages)\n",
    "            std = max(np.std(advantages), 1e-6)\n",
    "            advantages = (advantages - mean) / std\n",
    "\n",
    "        samples[\"advantages\"] = advantages\n",
    "        return samples, {}\n",
    "\n",
    "    # ===== Training iteration =====\n",
    "    def train(self, iteration=None):\n",
    "        \"\"\"Here we defined the training pipeline using the abstract\n",
    "        functions.\"\"\"\n",
    "        info = dict(iteration=iteration)\n",
    "\n",
    "        # Collect samples\n",
    "        samples, sample_info = self.collect_samples()\n",
    "        info.update(sample_info)\n",
    "\n",
    "        # Process samples\n",
    "        processed_samples, processed_info = self.process_samples(samples)\n",
    "        info.update(processed_info)\n",
    "\n",
    "        # Update the model\n",
    "        update_info = self.update_network(processed_samples)\n",
    "        info.update(update_info)\n",
    "\n",
    "        now = time.time()\n",
    "        self.iteration += 1\n",
    "        self.total_timesteps += info.pop(\"iter_timesteps\")\n",
    "        self.total_episodes += info.pop(\"iter_episodes\")\n",
    "\n",
    "        # info[\"iter_time\"] = now - self.iteration_time\n",
    "        # info[\"total_time\"] = now - self.start_time\n",
    "        info[\"total_episodes\"] = self.total_episodes\n",
    "        info[\"total_timesteps\"] = self.total_timesteps\n",
    "        self.iteration_time = now\n",
    "\n",
    "        # print(\"INFO: \", info)\n",
    "\n",
    "        return info\n"
   ]
  },
  {
   "cell_type": "markdown",
   "id": "1009bfc7",
   "metadata": {},
   "source": [
    "### Section 4.2: Test REINFORCE"
   ]
  },
  {
   "cell_type": "code",
   "execution_count": 29,
   "id": "4fe25068",
   "metadata": {},
   "outputs": [
    {
     "name": "stdout",
     "output_type": "stream",
     "text": [
      "Test Passed!\n"
     ]
    }
   ],
   "source": [
    "# Run this cell without modification\n",
    "\n",
    "# Test advantage computing\n",
    "test_trainer = PGTrainer({\"normalize_advantage\": False})\n",
    "test_trainer.train()\n",
    "fake_sample = {\"reward\": [[2, 2, 2, 2, 2]]}\n",
    "np.testing.assert_almost_equal(\n",
    "    test_trainer.process_samples(fake_sample)[0][\"reward\"][0],\n",
    "    fake_sample[\"reward\"][0]\n",
    ")\n",
    "np.testing.assert_almost_equal(\n",
    "    test_trainer.process_samples(fake_sample)[0][\"advantages\"],\n",
    "    np.array([9.80199, 7.880798, 5.9402, 3.98, 2.], dtype=np.float32)\n",
    ")\n",
    "\n",
    "# Test advantage normalization\n",
    "test_trainer = PGTrainer(\n",
    "    {\"normalize_advantage\": True, \"env_name\": \"CartPole-v1\"})\n",
    "test_adv = test_trainer.process_samples(fake_sample)[0][\"advantages\"]\n",
    "np.testing.assert_almost_equal(test_adv.mean(), 0.0)\n",
    "np.testing.assert_almost_equal(test_adv.std(), 1.0)\n",
    "\n",
    "# Test the shape of functions' returns\n",
    "fake_observation = np.array([\n",
    "    test_trainer.env.observation_space.sample() for i in range(10)\n",
    "])\n",
    "fake_action = np.array([\n",
    "    test_trainer.env.action_space.sample() for i in range(10)\n",
    "])\n",
    "assert test_trainer.to_tensor(fake_observation).shape == torch.Size([10, 4])\n",
    "assert np.array(test_trainer.compute_action(fake_observation[0])).shape == ()\n",
    "assert test_trainer.compute_log_probs(fake_observation, fake_action).shape == \\\n",
    "       torch.Size([10])\n",
    "\n",
    "print(\"Test Passed!\")\n"
   ]
  },
  {
   "cell_type": "markdown",
   "id": "18bee50d",
   "metadata": {},
   "source": [
    "### Section 4.3: Train REINFORCE in CartPole and see the impact of advantage normalization"
   ]
  },
  {
   "cell_type": "code",
   "execution_count": null,
   "id": "17b6095d",
   "metadata": {
    "scrolled": true
   },
   "outputs": [
    {
     "name": "stderr",
     "output_type": "stream",
     "text": [
      "Training:  11%|█         | 110/1001 [03:12<25:38,  1.73s/it, ep_reward=156]"
     ]
    }
   ],
   "source": [
    "# Run this cell without modification\n",
    "\n",
    "pg_trainer_no_na, pg_result_no_na = run(PGTrainer, dict(\n",
    "    learning_rate=0.001,\n",
    "    train_batch_size=200,\n",
    "    env_name=\"CartPole-v1\",\n",
    "    normalize_advantage=False,  # <<== Here!\n",
    "\n",
    "    evaluate_interval=10,\n",
    "    evaluate_num_episodes=10,\n",
    "), 480)\n"
   ]
  },
  {
   "cell_type": "code",
   "execution_count": null,
   "id": "5f75805b",
   "metadata": {
    "scrolled": true
   },
   "outputs": [
    {
     "name": "stderr",
     "output_type": "stream",
     "text": [
      "Training:  36%|███▌      | 360/1001 [00:32<00:56, 11.26it/s, ep_reward=491][INFO] Iter 360, episodic return 491.200 is greater than reward threshold 480.0. Congratulation! Now we exit the training process.\n",
      "Training:  36%|███▌      | 360/1001 [00:32<00:58, 10.92it/s, ep_reward=491]"
     ]
    },
    {
     "name": "stdout",
     "output_type": "stream",
     "text": [
      "Environment is closed.\n"
     ]
    },
    {
     "name": "stderr",
     "output_type": "stream",
     "text": [
      "\n"
     ]
    }
   ],
   "source": [
    "# Run this cell without modification\n",
    "\n",
    "pg_trainer_with_na, pg_result_with_na = run(PGTrainer, dict(\n",
    "    learning_rate=0.001,\n",
    "    train_batch_size=200,\n",
    "    env_name=\"CartPole-v1\",\n",
    "    normalize_advantage=True,  # <<== Here!\n",
    "\n",
    "    evaluate_interval=10,\n",
    "    evaluate_num_episodes=10,\n",
    "), 480.0)\n"
   ]
  },
  {
   "cell_type": "code",
   "execution_count": null,
   "id": "10fb3d38",
   "metadata": {},
   "outputs": [
    {
     "data": {
      "text/plain": [
       "Text(0.5, 1.0, 'Comparing Advantage normalization in Policy Gradient')"
      ]
     },
     "execution_count": 142,
     "metadata": {},
     "output_type": "execute_result"
    },
    {
     "data": {
      "image/png": "[encoded data removed]",
      "text/plain": [
       "<Figure size 640x480 with 1 Axes>"
      ]
     },
     "metadata": {},
     "output_type": "display_data"
    }
   ],
   "source": [
    "# Run this cell without modification\n",
    "\n",
    "pg_result_no_na_df = pd.DataFrame(pg_result_no_na)\n",
    "pg_result_with_na_df = pd.DataFrame(pg_result_with_na)\n",
    "pg_result_no_na_df[\"normalize_advantage\"] = False\n",
    "pg_result_with_na_df[\"normalize_advantage\"] = True\n",
    "\n",
    "ax = sns.lineplot(\n",
    "    x=\"total_timesteps\",\n",
    "    y=\"performance\",\n",
    "    data=pd.concat([pg_result_no_na_df, pg_result_with_na_df]).reset_index(), hue=\"normalize_advantage\",\n",
    ")\n",
    "ax.set_title(\"Comparing Advantage normalization in Policy Gradient\")\n",
    "# It's OK to see very noisy curves...\n",
    "# And you probably can't see clear margin...\n",
    "# Running with more seeds might help."
   ]
  },
  {
   "cell_type": "markdown",
   "id": "95a0d7cc",
   "metadata": {},
   "source": [
    "### Section 4.4: Train REINFORCE in MetaDrive-Easy"
   ]
  },
  {
   "cell_type": "code",
   "execution_count": null,
   "id": "1d06a73d",
   "metadata": {
    "scrolled": true
   },
   "outputs": [
    {
     "name": "stderr",
     "output_type": "stream",
     "text": [
      "\u001b[38;20m[INFO] Environment: MetaDriveEnv\u001b[0m\n",
      "\u001b[38;20m[INFO] MetaDrive version: 0.4.3\u001b[0m\n",
      "\u001b[38;20m[INFO] Sensors: [lidar: Lidar(), side_detector: SideDetector(), lane_line_detector: LaneLineDetector()]\u001b[0m\n",
      "\u001b[38;20m[INFO] Render Mode: none\u001b[0m\n",
      "\u001b[38;20m[INFO] Horizon (Max steps per agent): 200\u001b[0m\n",
      "Training:   1%|          | 50/5001 [03:28<8:41:19,  6.32s/it, ep_reward=125] [INFO] Iter 50, episodic return 125.133 is greater than reward threshold 120. Congratulation! Now we exit the training process.\n",
      "Training:   1%|          | 50/5001 [03:28<5:43:22,  4.16s/it, ep_reward=125]"
     ]
    },
    {
     "name": "stdout",
     "output_type": "stream",
     "text": [
      "Environment is closed.\n"
     ]
    },
    {
     "name": "stderr",
     "output_type": "stream",
     "text": [
      "\n"
     ]
    }
   ],
   "source": [
    "# Run this cell without modification\n",
    "\n",
    "env_name = \"MetaDrive-Tut-Easy-v0\"\n",
    "\n",
    "pg_trainer_metadrive_easy, pg_trainer_metadrive_easy_result = run(PGTrainer, dict(\n",
    "    train_batch_size=2000,\n",
    "    normalize_advantage=True,\n",
    "    max_episode_length=200,\n",
    "    max_iteration=5000,\n",
    "    evaluate_interval=10,\n",
    "    evaluate_num_episodes=10,\n",
    "    learning_rate=0.001,\n",
    "    clip_norm=10.0,\n",
    "    env_name=env_name\n",
    "), reward_threshold=120)\n",
    "\n",
    "pg_trainer_metadrive_easy.save(\"pg_trainer_metadrive_easy.pt\")\n",
    "# Expected to converge within 100 iterations."
   ]
  },
  {
   "cell_type": "code",
   "execution_count": null,
   "id": "5b650945",
   "metadata": {},
   "outputs": [
    {
     "name": "stderr",
     "output_type": "stream",
     "text": [
      "\u001b[38;20m[INFO] Environment: MetaDriveEnv\u001b[0m\n",
      "\u001b[38;20m[INFO] MetaDrive version: 0.4.3\u001b[0m\n",
      "\u001b[38;20m[INFO] Sensors: [lidar: Lidar(), side_detector: SideDetector(), lane_line_detector: LaneLineDetector()]\u001b[0m\n",
      "\u001b[38;20m[INFO] Render Mode: none\u001b[0m\n",
      "\u001b[38;20m[INFO] Horizon (Max steps per agent): 200\u001b[0m\n"
     ]
    },
    {
     "name": "stdout",
     "output_type": "stream",
     "text": [
      "Evaluating 1/1 episodes. We are in 1/1000 steps. Current episode reward: 0.008\n",
      "Evaluating 1/1 episodes. We are in 51/1000 steps. Current episode reward: 37.142\n"
     ]
    },
    {
     "data": {
      "text/html": [
       "<table class=\"show_videos\" style=\"border-spacing:0px;\"><tr><td style=\"padding:1px;\"><video controls width=\"800\" height=\"800\" style=\"object-fit:cover;\" loop autoplay muted>\n",
       "      <source src=\"data:video/mp4;base64,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\" type=\"video/mp4\"/>\n",
       "      This browser does not support the video tag.\n",
       "      </video></td></tr></table>"
      ],
      "text/plain": [
       "<IPython.core.display.HTML object>"
      ]
     },
     "metadata": {},
     "output_type": "display_data"
    },
    {
     "name": "stdout",
     "output_type": "stream",
     "text": [
      "REINFORCE agent achieves 125.05254010105511 return in MetaDrive easy environment.\n"
     ]
    }
   ],
   "source": [
    "# Run this cell without modification\n",
    "\n",
    "# Render the learned behavior\n",
    "# NOTE: The learned agent is marked by green color.\n",
    "eval_reward, eval_info = evaluate(\n",
    "    policy=pg_trainer_metadrive_easy.policy,\n",
    "    num_episodes=1,\n",
    "    env_name=pg_trainer_metadrive_easy.env_name,\n",
    "    render=\"topdown\",  # Visualize the behaviors in top-down view\n",
    "    verbose=True\n",
    ")\n",
    "\n",
    "animate(eval_info[\"frames\"])\n",
    "\n",
    "print(\"REINFORCE agent achieves {} return in MetaDrive easy environment.\".format(eval_reward))"
   ]
  },
  {
   "cell_type": "markdown",
   "id": "fcc0bcd0",
   "metadata": {},
   "source": [
    "## Section 5: Policy gradient with baseline\n",
    "\n",
    "(20 / 100 points)\n",
    "\n",
    "In REINFORCE, we compute the gradient of $Q = \\mathop{\\mathbb E} \\sum_t r(a_t, s_t)$ w.r.t. the parameter to update the policy. Let's consider this case: when you take an \"average\" action that leads to a positive expected return, the policy gradient is also positive and you will update your network toward this action. At the same time, there might be a potentially better action. You should update the policy toward the better action instead of the \"average\" action. Do we have any way to impose the idea that we should at least update the policy toward an action that is better than the literally \"average\" action?\n",
    "\n",
    "We introduce the \"baseline\" when computing the policy gradient. The insight behind this is that we want to optimize the policy toward an action that are better than the \"average action\". We introduce $b_{t} = \\mathbb E_{a_t} \\sum_{t'}{\\gamma^{t'-t} r(s_{t'}, a_{t'})}$ as the baseline. It averages the expected discount return of all possible actions at state $s_t$. So that the \"advantage\" compared against the average action (aka the \"excess profit\") achieved by action $a_t$ can be evaluated via $\\sum_{t'=t} \\gamma^{t' -t}r(a_{t'}, s_{t'}) - b_t$\n",
    "\n",
    "Therefore, the policy gradient becomes:\n",
    "\n",
    "$$\\nabla_\\theta Q =\\cfrac{1}{N}\\sum_{i=1}^N [( \\sum_t  \\nabla_\\theta \\log \\pi_\\theta(a_{i,t}|s_{i,t}) (\\sum_{t'} \\gamma^{t'-t} r(s_{i,{t’}}, a_{i,t‘}) - b_{i, t})]$$\n",
    "\n",
    "In our implementation, we estimate the baseline via an extra network `self.baseline`, which has same structure of the policy network but outputs only a scalar value. We use the output of this network to serve as the baseline, while this network is updated by fitting the true value of the expected return of current state: $\\mathbb E_{a_t} \\sum_{t'}{\\gamma^{t'-t} r(s_{t'}, a_{t'})}$\n",
    "\n",
    "The state-action values might have large variance if the reward function has large variance. It is not easy for a neural network to predict targets with large variance and extreme values. In our implementation, we use a trick to match the distribution of the baseline and values. During training, we first collect a batch of target values: $\\{t_i= \\mathbb E_{a_t} \\sum_{t'}{\\gamma^{t'-t} r(s_{t'}, a_{t'})}\\}_i$. Then we normalize all targets to a standard Normal distribution with mean = 0 and std = 1. Then we ask the baseline network to fit such normalized targets.\n",
    "\n",
    "When computing the advantages, instead of using the output of baseline network as the baseline $b$, we firstly match the baseline distribution (which, assume the baseline network is well trained, should be a standard Normal distribution) with the state-action values' distribution. We \"de-standarize\" the baselines. The transformed baselines $b' = f(b)$ should has the same mean and STD with the state-action values. By doing this, we mitigate the instability of training baseline.\n",
    "\n",
    "After that, we compute the advantage of current action: $adv_{i,t} = \\sum_{t'} \\gamma^{t'-t} r(s_{i,{t'}}, a_{i,t'}) - b'_{i, t}$\n",
    "\n",
    "Hint: We suggest to normalize an array via: `(x - x.mean()) / max(x.std(), 1e-6)`. The max term can mitigate numeraical instability."
   ]
  },
  {
   "cell_type": "markdown",
   "id": "95c1378f",
   "metadata": {},
   "source": [
    "### Section 5.1: Build PG method with baseline"
   ]
  },
  {
   "cell_type": "code",
   "execution_count": 145,
   "id": "709df140",
   "metadata": {},
   "outputs": [],
   "source": [
    "# Finish TODOs\n",
    "\n",
    "class PolicyGradientWithBaselineTrainer(PGTrainer):\n",
    "    def initialize_parameters(self):\n",
    "        # Build the actor in name of self.policy\n",
    "        super().initialize_parameters()\n",
    "\n",
    "        # TODO: Build the baseline network using PytorchModel class.\n",
    "        self.baseline = PytorchModel(num_inputs=self.obs_dim, num_outputs=1, hidden_units=self.config[\"hidden_units\"]).to(self.device)\n",
    "\n",
    "        self.baseline_loss = nn.MSELoss()\n",
    "\n",
    "        self.baseline_optimizer = torch.optim.Adam(\n",
    "            self.baseline.parameters(),\n",
    "            lr=self.config[\"learning_rate\"]\n",
    "        )\n",
    "\n",
    "    def process_samples(self, samples):\n",
    "        # Call the original process_samples function to get advantages\n",
    "        tmp_samples, _ = super().process_samples(samples)\n",
    "        values = tmp_samples[\"advantages\"]\n",
    "        samples[\"values\"] = values  # We add q_values into samples\n",
    "\n",
    "        # Flatten the observations in all trajectories (still a numpy array)\n",
    "        obs = np.concatenate(samples[\"obs\"])\n",
    "\n",
    "        assert obs.ndim == 2\n",
    "        assert obs.shape[1] == self.obs_dim\n",
    "\n",
    "        obs = self.to_tensor(obs)\n",
    "        samples[\"flat_obs\"] = obs\n",
    "\n",
    "        # TODO: Compute the baseline by feeding observation to the baseline network\n",
    "        # Hint: baselines should be a numpy array with the same shape of `values` (batch size, )\n",
    "        baselines = self.to_array(self.baseline(obs).squeeze())\n",
    "\n",
    "        assert baselines.shape == values.shape\n",
    "\n",
    "        # TODO: Match the distribution of baselines to the values.\n",
    "        # Hint: We expect to see baselines.std() almost equals to values.std(), \n",
    "        #  and baselines.mean() almost equals to values.mean().\n",
    "        baselines_mean = np.mean(baselines)\n",
    "        baselines_std = max(np.std(baselines), 1e-6)\n",
    "        baselines = (baselines - baselines_mean) / baselines_std\n",
    "        baselines = baselines * values.std() + values.mean()\n",
    "\n",
    "        # Compute the advantage\n",
    "        advantages = values - baselines\n",
    "        samples[\"advantages\"] = advantages\n",
    "        process_info = {\"mean_baseline\": float(np.mean(baselines))}\n",
    "        return samples, process_info\n",
    "\n",
    "    def update_network(self, processed_samples):\n",
    "        update_info = super().update_network(processed_samples)\n",
    "        update_info.update(self.update_baseline(processed_samples))\n",
    "        return update_info\n",
    "\n",
    "    def update_baseline(self, processed_samples):\n",
    "        self.baseline.train()\n",
    "        obs = processed_samples[\"flat_obs\"]\n",
    "\n",
    "        # TODO: Normalize `values` to have mean=0, std=1.\n",
    "        values = processed_samples[\"values\"]\n",
    "        values_mean = np.mean(values)\n",
    "        values_std = max(np.std(values), 1e-6)\n",
    "        values = (values - values_mean) / values_std\n",
    "\n",
    "        values = self.to_tensor(values[:, np.newaxis])\n",
    "\n",
    "        baselines = self.baseline(obs)\n",
    "\n",
    "        self.baseline_optimizer.zero_grad()\n",
    "        loss = self.baseline_loss(input=baselines, target=values)\n",
    "        loss.backward()\n",
    "\n",
    "        # Clip the gradient\n",
    "        torch.nn.utils.clip_grad_norm_(\n",
    "            self.baseline.parameters(), self.config[\"clip_gradient\"]\n",
    "        )\n",
    "\n",
    "        self.baseline_optimizer.step()\n",
    "        self.baseline.eval()\n",
    "        return dict(baseline_loss=loss.item())\n"
   ]
  },
  {
   "cell_type": "markdown",
   "id": "1168a4b4",
   "metadata": {},
   "source": [
    "### Section 5.2: Run PG w/ baseline in CartPole"
   ]
  },
  {
   "cell_type": "code",
   "execution_count": 146,
   "id": "7f5c1adf",
   "metadata": {
    "scrolled": true
   },
   "outputs": [
    {
     "name": "stderr",
     "output_type": "stream",
     "text": [
      "Training:   0%|          | 0/1001 [00:00<?, ?it/s]c:\\Users\\hmbyx\\AppData\\Local\\Programs\\Python\\Python311\\Lib\\site-packages\\numpy\\_core\\fromnumeric.py:3860: RuntimeWarning: Mean of empty slice.\n",
      "  return _methods._mean(a, axis=axis, dtype=dtype,\n",
      "c:\\Users\\hmbyx\\AppData\\Local\\Programs\\Python\\Python311\\Lib\\site-packages\\numpy\\_core\\_methods.py:145: RuntimeWarning: invalid value encountered in scalar divide\n",
      "  ret = ret.dtype.type(ret / rcount)\n",
      "Training:  19%|█▉        | 190/1001 [00:10<00:39, 20.70it/s, ep_reward=198][INFO] Iter 190, episodic return 198.500 is greater than reward threshold 195.0. Congratulation! Now we exit the training process.\n",
      "Training:  19%|█▉        | 190/1001 [00:10<00:46, 17.37it/s, ep_reward=198]"
     ]
    },
    {
     "name": "stdout",
     "output_type": "stream",
     "text": [
      "Environment is closed.\n"
     ]
    },
    {
     "name": "stderr",
     "output_type": "stream",
     "text": [
      "\n"
     ]
    }
   ],
   "source": [
    "# Run this cell without modification\n",
    "\n",
    "pg_trainer_wb_cartpole, pg_trainer_wb_cartpole_result = run(PolicyGradientWithBaselineTrainer, dict(\n",
    "    learning_rate=0.001,\n",
    "    max_episode_length=200,\n",
    "    train_batch_size=200,\n",
    "\n",
    "    env_name=\"CartPole-v1\",\n",
    "    normalize_advantage=True,\n",
    "\n",
    "    evaluate_interval=10,\n",
    "    evaluate_num_episodes=10,\n",
    "), 195.0)\n"
   ]
  },
  {
   "cell_type": "markdown",
   "id": "4ff92a1e",
   "metadata": {},
   "source": [
    "### Section 5.3: Run PG w/ baseline in MetaDrive-Easy\n"
   ]
  },
  {
   "cell_type": "code",
   "execution_count": 147,
   "id": "4e498197",
   "metadata": {},
   "outputs": [
    {
     "name": "stderr",
     "output_type": "stream",
     "text": [
      "\u001b[38;20m[INFO] Environment: MetaDriveEnv\u001b[0m\n",
      "\u001b[38;20m[INFO] MetaDrive version: 0.4.3\u001b[0m\n",
      "\u001b[38;20m[INFO] Sensors: [lidar: Lidar(), side_detector: SideDetector(), lane_line_detector: LaneLineDetector()]\u001b[0m\n",
      "\u001b[38;20m[INFO] Render Mode: none\u001b[0m\n",
      "\u001b[38;20m[INFO] Horizon (Max steps per agent): 200\u001b[0m\n",
      "Training:   1%|          | 30/5001 [01:59<5:27:13,  3.95s/it, ep_reward=125] [INFO] Iter 30, episodic return 125.064 is greater than reward threshold 120. Congratulation! Now we exit the training process.\n",
      "Training:   1%|          | 30/5001 [01:59<5:29:56,  3.98s/it, ep_reward=125]"
     ]
    },
    {
     "name": "stdout",
     "output_type": "stream",
     "text": [
      "Environment is closed.\n"
     ]
    },
    {
     "name": "stderr",
     "output_type": "stream",
     "text": [
      "\n"
     ]
    }
   ],
   "source": [
    "# Run this cell without modification\n",
    "\n",
    "env_name = \"MetaDrive-Tut-Easy-v0\"\n",
    "\n",
    "pg_trainer_wb_metadrive_easy, pg_trainer_wb_metadrive_easy_result = run(\n",
    "    PolicyGradientWithBaselineTrainer,\n",
    "    dict(\n",
    "        train_batch_size=2000,\n",
    "        normalize_advantage=True,\n",
    "        max_episode_length=200,\n",
    "        max_iteration=5000,\n",
    "        evaluate_interval=10,\n",
    "        evaluate_num_episodes=10,\n",
    "        learning_rate=0.001,\n",
    "        clip_norm=10.0,\n",
    "        env_name=env_name\n",
    "    ),\n",
    "    reward_threshold=120\n",
    ")\n",
    "\n",
    "pg_trainer_wb_metadrive_easy.save(\"pg_trainer_wb_metadrive_easy.pt\")"
   ]
  },
  {
   "cell_type": "code",
   "execution_count": 148,
   "id": "6f356062",
   "metadata": {},
   "outputs": [
    {
     "name": "stderr",
     "output_type": "stream",
     "text": [
      "\u001b[38;20m[INFO] Environment: MetaDriveEnv\u001b[0m\n",
      "\u001b[38;20m[INFO] MetaDrive version: 0.4.3\u001b[0m\n",
      "\u001b[38;20m[INFO] Sensors: [lidar: Lidar(), side_detector: SideDetector(), lane_line_detector: LaneLineDetector()]\u001b[0m\n",
      "\u001b[38;20m[INFO] Render Mode: none\u001b[0m\n",
      "\u001b[38;20m[INFO] Horizon (Max steps per agent): 200\u001b[0m\n"
     ]
    },
    {
     "name": "stdout",
     "output_type": "stream",
     "text": [
      "Evaluating 1/1 episodes. We are in 1/1000 steps. Current episode reward: 0.008\n",
      "Evaluating 1/1 episodes. We are in 51/1000 steps. Current episode reward: 37.142\n",
      "PG agent achieves 125.05254010105511 return and 1.0 success rate in MetaDrive easy environment.\n"
     ]
    },
    {
     "data": {
      "text/html": [
       "<table class=\"show_videos\" style=\"border-spacing:0px;\"><tr><td style=\"padding:1px;\"><video controls width=\"800\" height=\"800\" style=\"object-fit:cover;\" loop autoplay muted>\n",
       "      <source src=\"data:video/mp4;base64,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\" type=\"video/mp4\"/>\n",
       "      This browser does not support the video tag.\n",
       "      </video></td></tr></table>"
      ],
      "text/plain": [
       "<IPython.core.display.HTML object>"
      ]
     },
     "metadata": {},
     "output_type": "display_data"
    }
   ],
   "source": [
    "# Run this cell without modification\n",
    "\n",
    "# Render the learned behavior\n",
    "# NOTE: The learned agent is marked by green color.\n",
    "eval_reward, eval_info = evaluate(\n",
    "    policy=pg_trainer_wb_metadrive_easy.policy,\n",
    "    num_episodes=1,\n",
    "    env_name=pg_trainer_wb_metadrive_easy.env_name,\n",
    "    render=\"topdown\",  # Visualize the behaviors in top-down view\n",
    "    verbose=True\n",
    ")\n",
    "\n",
    "print(\n",
    "    \"PG agent achieves {} return and {} success rate in MetaDrive easy environment.\".format(\n",
    "        eval_reward, eval_info[\"success_rate\"]\n",
    "    )\n",
    ")\n",
    "\n",
    "animate(eval_info[\"frames\"])"
   ]
  },
  {
   "cell_type": "markdown",
   "id": "264f267e",
   "metadata": {},
   "source": [
    "### Section 5.4: Run PG with baseline in MetaDrive-Hard\n",
    "\n",
    "**The minimum goal to is to achieve episodic return > 20, which costs nearly 20 iterations and ~100k steps.**\n",
    "\n",
    "You can try to play with hyperparameters and optimize code to see if you can achieve >0.0 success rate."
   ]
  },
  {
   "cell_type": "code",
   "execution_count": 149,
   "id": "b737c345",
   "metadata": {},
   "outputs": [
    {
     "name": "stderr",
     "output_type": "stream",
     "text": [
      "\u001b[38;20m[INFO] Environment: MetaDriveEnv\u001b[0m\n",
      "\u001b[38;20m[INFO] MetaDrive version: 0.4.3\u001b[0m\n",
      "\u001b[38;20m[INFO] Sensors: [lidar: Lidar(), side_detector: SideDetector(), lane_line_detector: LaneLineDetector()]\u001b[0m\n",
      "\u001b[38;20m[INFO] Render Mode: none\u001b[0m\n",
      "\u001b[38;20m[INFO] Horizon (Max steps per agent): None\u001b[0m\n",
      "Training:   0%|          | 20/5001 [07:29<24:02:06, 17.37s/it, ep_reward=21.1][INFO] Iter 20, episodic return 21.150 is greater than reward threshold 20. Congratulation! Now we exit the training process.\n",
      "Training:   0%|          | 20/5001 [07:29<31:03:56, 22.45s/it, ep_reward=21.1]"
     ]
    },
    {
     "name": "stdout",
     "output_type": "stream",
     "text": [
      "Environment is closed.\n"
     ]
    },
    {
     "name": "stderr",
     "output_type": "stream",
     "text": [
      "\n"
     ]
    }
   ],
   "source": [
    "# Run this cell without modification\n",
    "\n",
    "env_name = \"MetaDrive-Tut-Hard-v0\"\n",
    "\n",
    "pg_trainer_wb_metadrive_hard, pg_trainer_wb_metadrive_hard_result = run(\n",
    "    PolicyGradientWithBaselineTrainer,\n",
    "    dict(\n",
    "        train_batch_size=4000,\n",
    "        normalize_advantage=True,\n",
    "        max_episode_length=1000,\n",
    "        max_iteration=5000,\n",
    "        evaluate_interval=5,\n",
    "        evaluate_num_episodes=10,\n",
    "        learning_rate=0.001,\n",
    "        clip_norm=10.0,\n",
    "        env_name=env_name\n",
    "    ),\n",
    "    reward_threshold=20  # We just set the reward threshold to 20. Feel free to adjust it.\n",
    ")\n",
    "\n",
    "pg_trainer_wb_metadrive_hard.save(\"pg_trainer_wb_metadrive_hard.pt\")"
   ]
  },
  {
   "cell_type": "code",
   "execution_count": 150,
   "id": "2e015832",
   "metadata": {},
   "outputs": [
    {
     "name": "stderr",
     "output_type": "stream",
     "text": [
      "\u001b[38;20m[INFO] Environment: MetaDriveEnv\u001b[0m\n",
      "\u001b[38;20m[INFO] MetaDrive version: 0.4.3\u001b[0m\n",
      "\u001b[38;20m[INFO] Sensors: [lidar: Lidar(), side_detector: SideDetector(), lane_line_detector: LaneLineDetector()]\u001b[0m\n",
      "\u001b[38;20m[INFO] Render Mode: none\u001b[0m\n",
      "\u001b[38;20m[INFO] Horizon (Max steps per agent): None\u001b[0m\n",
      "\u001b[38;20m[INFO] Environment: MetaDriveEnv\u001b[0m\n",
      "\u001b[38;20m[INFO] MetaDrive version: 0.4.3\u001b[0m\n",
      "\u001b[38;20m[INFO] Sensors: [lidar: Lidar(), side_detector: SideDetector(), lane_line_detector: LaneLineDetector()]\u001b[0m\n",
      "\u001b[38;20m[INFO] Render Mode: none\u001b[0m\n",
      "\u001b[38;20m[INFO] Horizon (Max steps per agent): None\u001b[0m\n"
     ]
    },
    {
     "name": "stdout",
     "output_type": "stream",
     "text": [
      "Evaluating 1/1 episodes. We are in 1/1000 steps. Current episode reward: 0.007\n",
      "Evaluating 1/1 episodes. We are in 51/1000 steps. Current episode reward: 5.509\n",
      "PG agent achieves 27.728051617459307 return and 0.0 success rate in MetaDrive easy environment.\n"
     ]
    },
    {
     "data": {
      "text/html": [
       "<table class=\"show_videos\" style=\"border-spacing:0px;\"><tr><td style=\"padding:1px;\"><video controls width=\"800\" height=\"800\" style=\"object-fit:cover;\" loop autoplay muted>\n",
       "      <source src=\"data:video/mp4;base64,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\" type=\"video/mp4\"/>\n",
       "      This browser does not support the video tag.\n",
       "      </video></td></tr></table>"
      ],
      "text/plain": [
       "<IPython.core.display.HTML object>"
      ]
     },
     "metadata": {},
     "output_type": "display_data"
    }
   ],
   "source": [
    "# Run this cell without modification\n",
    "\n",
    "# Render the learned behavior\n",
    "# NOTE: The learned agent is marked by green color.\n",
    "eval_reward, eval_info = evaluate(\n",
    "    policy=pg_trainer_wb_metadrive_hard.policy,\n",
    "    num_episodes=10,\n",
    "    env_name=pg_trainer_wb_metadrive_hard.env_name,\n",
    "    render=None,\n",
    "    verbose=False\n",
    ")\n",
    "\n",
    "_, eval_info_render = evaluate(\n",
    "    policy=pg_trainer_wb_metadrive_hard.policy,\n",
    "    num_episodes=1,\n",
    "    env_name=pg_trainer_wb_metadrive_hard.env_name,\n",
    "    render=\"topdown\",  # Visualize the behaviors in top-down view\n",
    "    verbose=True\n",
    ")\n",
    "\n",
    "print(\n",
    "    \"PG agent achieves {} return and {} success rate in MetaDrive easy environment.\".format(\n",
    "        eval_reward, eval_info[\"success_rate\"]\n",
    "    )\n",
    ")\n",
    "\n",
    "animate(eval_info_render[\"frames\"])"
   ]
  },
  {
   "cell_type": "markdown",
   "id": "bff92fb1",
   "metadata": {
    "id": "bff92fb1"
   },
   "source": [
    "------\n",
    "\n",
    "## Conclusion\n",
    "\n",
    "In this assignment, we learn how to build naive Q learning, Deep Q Network and Policy Gradient methods.\n",
    "\n",
    "Following the submission instruction in the assignment to submit your assignment. Thank you!\n",
    "\n",
    "------"
   ]
  },
  {
   "cell_type": "code",
   "execution_count": 151,
   "id": "97711eec",
   "metadata": {},
   "outputs": [
    {
     "name": "stdout",
     "output_type": "stream",
     "text": [
      "Intel GPU is NOT available. Using CPU instead.\n"
     ]
    }
   ],
   "source": [
    "if torch.xpu.is_available():\n",
    "    print(\"Intel GPU is available!\")\n",
    "    device = torch.device(\"xpu\")\n",
    "else:\n",
    "    print(\"Intel GPU is NOT available. Using CPU instead.\")\n",
    "    device = torch.device(\"cpu\")"
   ]
  }
 ],
 "metadata": {
  "colab": {
   "collapsed_sections": [],
   "provenance": []
  },
  "kernelspec": {
   "display_name": "Python 3",
   "language": "python",
   "name": "python3"
  },
  "language_info": {
   "codemirror_mode": {
    "name": "ipython",
    "version": 3
   },
   "file_extension": ".py",
   "mimetype": "text/x-python",
   "name": "python",
   "nbconvert_exporter": "python",
   "pygments_lexer": "ipython3",
   "version": "3.11.0"
  }
 },
 "nbformat": 4,
 "nbformat_minor": 5
}
